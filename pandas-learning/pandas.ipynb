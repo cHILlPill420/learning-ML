{
 "cells": [
  {
   "cell_type": "code",
   "execution_count": 1,
   "metadata": {},
   "outputs": [],
   "source": [
    "import pandas as pd\n",
    "import numpy as np"
   ]
  },
  {
   "cell_type": "code",
   "execution_count": 2,
   "metadata": {},
   "outputs": [],
   "source": [
    "s = pd.Series([1,2,3,4,np.nan,6,7,8])"
   ]
  },
  {
   "cell_type": "code",
   "execution_count": 3,
   "metadata": {},
   "outputs": [
    {
     "data": {
      "text/plain": [
       "0    1.0\n",
       "1    2.0\n",
       "2    3.0\n",
       "3    4.0\n",
       "4    NaN\n",
       "5    6.0\n",
       "6    7.0\n",
       "7    8.0\n",
       "dtype: float64"
      ]
     },
     "execution_count": 3,
     "metadata": {},
     "output_type": "execute_result"
    }
   ],
   "source": [
    "s"
   ]
  },
  {
   "cell_type": "code",
   "execution_count": 4,
   "metadata": {},
   "outputs": [
    {
     "data": {
      "text/plain": [
       "DatetimeIndex(['2020-03-01', '2020-03-02', '2020-03-03', '2020-03-04',\n",
       "               '2020-03-05', '2020-03-06', '2020-03-07', '2020-03-08',\n",
       "               '2020-03-09', '2020-03-10'],\n",
       "              dtype='datetime64[ns]', freq='D')"
      ]
     },
     "execution_count": 4,
     "metadata": {},
     "output_type": "execute_result"
    }
   ],
   "source": [
    "d = pd.date_range('20200301',periods=10)\n",
    "d"
   ]
  },
  {
   "cell_type": "code",
   "execution_count": 5,
   "metadata": {},
   "outputs": [
    {
     "data": {
      "text/html": [
       "<div>\n",
       "<style scoped>\n",
       "    .dataframe tbody tr th:only-of-type {\n",
       "        vertical-align: middle;\n",
       "    }\n",
       "\n",
       "    .dataframe tbody tr th {\n",
       "        vertical-align: top;\n",
       "    }\n",
       "\n",
       "    .dataframe thead th {\n",
       "        text-align: right;\n",
       "    }\n",
       "</style>\n",
       "<table border=\"1\" class=\"dataframe\">\n",
       "  <thead>\n",
       "    <tr style=\"text-align: right;\">\n",
       "      <th></th>\n",
       "      <th>A</th>\n",
       "      <th>b</th>\n",
       "      <th>c</th>\n",
       "    </tr>\n",
       "  </thead>\n",
       "  <tbody>\n",
       "    <tr>\n",
       "      <th>2020-03-01</th>\n",
       "      <td>0.144724</td>\n",
       "      <td>-0.476416</td>\n",
       "      <td>-1.174351</td>\n",
       "    </tr>\n",
       "    <tr>\n",
       "      <th>2020-03-02</th>\n",
       "      <td>0.164712</td>\n",
       "      <td>-1.286418</td>\n",
       "      <td>-0.583295</td>\n",
       "    </tr>\n",
       "    <tr>\n",
       "      <th>2020-03-03</th>\n",
       "      <td>-0.394459</td>\n",
       "      <td>-1.129826</td>\n",
       "      <td>0.936452</td>\n",
       "    </tr>\n",
       "    <tr>\n",
       "      <th>2020-03-04</th>\n",
       "      <td>0.842736</td>\n",
       "      <td>0.908940</td>\n",
       "      <td>0.355395</td>\n",
       "    </tr>\n",
       "    <tr>\n",
       "      <th>2020-03-05</th>\n",
       "      <td>1.714372</td>\n",
       "      <td>-1.599235</td>\n",
       "      <td>0.466712</td>\n",
       "    </tr>\n",
       "    <tr>\n",
       "      <th>2020-03-06</th>\n",
       "      <td>1.483610</td>\n",
       "      <td>-1.694862</td>\n",
       "      <td>0.832870</td>\n",
       "    </tr>\n",
       "    <tr>\n",
       "      <th>2020-03-07</th>\n",
       "      <td>1.533467</td>\n",
       "      <td>-0.809444</td>\n",
       "      <td>1.130276</td>\n",
       "    </tr>\n",
       "    <tr>\n",
       "      <th>2020-03-08</th>\n",
       "      <td>-0.617002</td>\n",
       "      <td>-0.949866</td>\n",
       "      <td>-0.301216</td>\n",
       "    </tr>\n",
       "    <tr>\n",
       "      <th>2020-03-09</th>\n",
       "      <td>-0.526979</td>\n",
       "      <td>-1.235525</td>\n",
       "      <td>-0.224918</td>\n",
       "    </tr>\n",
       "    <tr>\n",
       "      <th>2020-03-10</th>\n",
       "      <td>1.069728</td>\n",
       "      <td>-1.165155</td>\n",
       "      <td>-0.435139</td>\n",
       "    </tr>\n",
       "  </tbody>\n",
       "</table>\n",
       "</div>"
      ],
      "text/plain": [
       "                   A         b         c\n",
       "2020-03-01  0.144724 -0.476416 -1.174351\n",
       "2020-03-02  0.164712 -1.286418 -0.583295\n",
       "2020-03-03 -0.394459 -1.129826  0.936452\n",
       "2020-03-04  0.842736  0.908940  0.355395\n",
       "2020-03-05  1.714372 -1.599235  0.466712\n",
       "2020-03-06  1.483610 -1.694862  0.832870\n",
       "2020-03-07  1.533467 -0.809444  1.130276\n",
       "2020-03-08 -0.617002 -0.949866 -0.301216\n",
       "2020-03-09 -0.526979 -1.235525 -0.224918\n",
       "2020-03-10  1.069728 -1.165155 -0.435139"
      ]
     },
     "execution_count": 5,
     "metadata": {},
     "output_type": "execute_result"
    }
   ],
   "source": [
    "df = pd.DataFrame(np.random.randn(10,3), index = d, columns = ['A','b','c'])\n",
    "df"
   ]
  },
  {
   "cell_type": "code",
   "execution_count": 6,
   "metadata": {},
   "outputs": [
    {
     "data": {
      "text/html": [
       "<div>\n",
       "<style scoped>\n",
       "    .dataframe tbody tr th:only-of-type {\n",
       "        vertical-align: middle;\n",
       "    }\n",
       "\n",
       "    .dataframe tbody tr th {\n",
       "        vertical-align: top;\n",
       "    }\n",
       "\n",
       "    .dataframe thead th {\n",
       "        text-align: right;\n",
       "    }\n",
       "</style>\n",
       "<table border=\"1\" class=\"dataframe\">\n",
       "  <thead>\n",
       "    <tr style=\"text-align: right;\">\n",
       "      <th></th>\n",
       "      <th>A</th>\n",
       "      <th>B</th>\n",
       "      <th>C</th>\n",
       "      <th>D</th>\n",
       "      <th>E</th>\n",
       "      <th>F</th>\n",
       "    </tr>\n",
       "  </thead>\n",
       "  <tbody>\n",
       "    <tr>\n",
       "      <th>0</th>\n",
       "      <td>1</td>\n",
       "      <td>2020-02-01</td>\n",
       "      <td>1.0</td>\n",
       "      <td>5</td>\n",
       "      <td>T</td>\n",
       "      <td>Hello</td>\n",
       "    </tr>\n",
       "    <tr>\n",
       "      <th>1</th>\n",
       "      <td>2</td>\n",
       "      <td>2020-02-01</td>\n",
       "      <td>1.0</td>\n",
       "      <td>5</td>\n",
       "      <td>F</td>\n",
       "      <td>Hello</td>\n",
       "    </tr>\n",
       "    <tr>\n",
       "      <th>2</th>\n",
       "      <td>3</td>\n",
       "      <td>2020-02-01</td>\n",
       "      <td>1.0</td>\n",
       "      <td>5</td>\n",
       "      <td>T</td>\n",
       "      <td>Hello</td>\n",
       "    </tr>\n",
       "    <tr>\n",
       "      <th>3</th>\n",
       "      <td>4</td>\n",
       "      <td>2020-02-01</td>\n",
       "      <td>1.0</td>\n",
       "      <td>5</td>\n",
       "      <td>T</td>\n",
       "      <td>Hello</td>\n",
       "    </tr>\n",
       "  </tbody>\n",
       "</table>\n",
       "</div>"
      ],
      "text/plain": [
       "   A          B    C  D  E      F\n",
       "0  1 2020-02-01  1.0  5  T  Hello\n",
       "1  2 2020-02-01  1.0  5  F  Hello\n",
       "2  3 2020-02-01  1.0  5  T  Hello\n",
       "3  4 2020-02-01  1.0  5  T  Hello"
      ]
     },
     "execution_count": 6,
     "metadata": {},
     "output_type": "execute_result"
    }
   ],
   "source": [
    "df1 = pd.DataFrame({'A': [1,2,3,4],\n",
    "                    'B': pd.Timestamp('20200201'),\n",
    "                    'C': pd.Series(1, index=list(range(4)),dtype='float32'),\n",
    "                    'D': np.array([5]*4, dtype='int32'),\n",
    "                    'E': pd.Categorical(['T','F','T','T']),\n",
    "                    'F': 'Hello'})\n",
    "df1"
   ]
  },
  {
   "cell_type": "code",
   "execution_count": 7,
   "metadata": {},
   "outputs": [
    {
     "data": {
      "text/plain": [
       "A             int64\n",
       "B    datetime64[ns]\n",
       "C           float32\n",
       "D             int32\n",
       "E          category\n",
       "F            object\n",
       "dtype: object"
      ]
     },
     "execution_count": 7,
     "metadata": {},
     "output_type": "execute_result"
    }
   ],
   "source": [
    "df1.dtypes"
   ]
  },
  {
   "cell_type": "code",
   "execution_count": 8,
   "metadata": {},
   "outputs": [
    {
     "data": {
      "text/html": [
       "<div>\n",
       "<style scoped>\n",
       "    .dataframe tbody tr th:only-of-type {\n",
       "        vertical-align: middle;\n",
       "    }\n",
       "\n",
       "    .dataframe tbody tr th {\n",
       "        vertical-align: top;\n",
       "    }\n",
       "\n",
       "    .dataframe thead th {\n",
       "        text-align: right;\n",
       "    }\n",
       "</style>\n",
       "<table border=\"1\" class=\"dataframe\">\n",
       "  <thead>\n",
       "    <tr style=\"text-align: right;\">\n",
       "      <th></th>\n",
       "      <th>A</th>\n",
       "      <th>b</th>\n",
       "      <th>c</th>\n",
       "    </tr>\n",
       "  </thead>\n",
       "  <tbody>\n",
       "    <tr>\n",
       "      <th>2020-03-01</th>\n",
       "      <td>0.144724</td>\n",
       "      <td>-0.476416</td>\n",
       "      <td>-1.174351</td>\n",
       "    </tr>\n",
       "    <tr>\n",
       "      <th>2020-03-02</th>\n",
       "      <td>0.164712</td>\n",
       "      <td>-1.286418</td>\n",
       "      <td>-0.583295</td>\n",
       "    </tr>\n",
       "    <tr>\n",
       "      <th>2020-03-03</th>\n",
       "      <td>-0.394459</td>\n",
       "      <td>-1.129826</td>\n",
       "      <td>0.936452</td>\n",
       "    </tr>\n",
       "    <tr>\n",
       "      <th>2020-03-04</th>\n",
       "      <td>0.842736</td>\n",
       "      <td>0.908940</td>\n",
       "      <td>0.355395</td>\n",
       "    </tr>\n",
       "    <tr>\n",
       "      <th>2020-03-05</th>\n",
       "      <td>1.714372</td>\n",
       "      <td>-1.599235</td>\n",
       "      <td>0.466712</td>\n",
       "    </tr>\n",
       "  </tbody>\n",
       "</table>\n",
       "</div>"
      ],
      "text/plain": [
       "                   A         b         c\n",
       "2020-03-01  0.144724 -0.476416 -1.174351\n",
       "2020-03-02  0.164712 -1.286418 -0.583295\n",
       "2020-03-03 -0.394459 -1.129826  0.936452\n",
       "2020-03-04  0.842736  0.908940  0.355395\n",
       "2020-03-05  1.714372 -1.599235  0.466712"
      ]
     },
     "execution_count": 8,
     "metadata": {},
     "output_type": "execute_result"
    }
   ],
   "source": [
    "df.head()"
   ]
  },
  {
   "cell_type": "code",
   "execution_count": 9,
   "metadata": {},
   "outputs": [
    {
     "data": {
      "text/html": [
       "<div>\n",
       "<style scoped>\n",
       "    .dataframe tbody tr th:only-of-type {\n",
       "        vertical-align: middle;\n",
       "    }\n",
       "\n",
       "    .dataframe tbody tr th {\n",
       "        vertical-align: top;\n",
       "    }\n",
       "\n",
       "    .dataframe thead th {\n",
       "        text-align: right;\n",
       "    }\n",
       "</style>\n",
       "<table border=\"1\" class=\"dataframe\">\n",
       "  <thead>\n",
       "    <tr style=\"text-align: right;\">\n",
       "      <th></th>\n",
       "      <th>A</th>\n",
       "      <th>b</th>\n",
       "      <th>c</th>\n",
       "    </tr>\n",
       "  </thead>\n",
       "  <tbody>\n",
       "    <tr>\n",
       "      <th>2020-03-06</th>\n",
       "      <td>1.483610</td>\n",
       "      <td>-1.694862</td>\n",
       "      <td>0.832870</td>\n",
       "    </tr>\n",
       "    <tr>\n",
       "      <th>2020-03-07</th>\n",
       "      <td>1.533467</td>\n",
       "      <td>-0.809444</td>\n",
       "      <td>1.130276</td>\n",
       "    </tr>\n",
       "    <tr>\n",
       "      <th>2020-03-08</th>\n",
       "      <td>-0.617002</td>\n",
       "      <td>-0.949866</td>\n",
       "      <td>-0.301216</td>\n",
       "    </tr>\n",
       "    <tr>\n",
       "      <th>2020-03-09</th>\n",
       "      <td>-0.526979</td>\n",
       "      <td>-1.235525</td>\n",
       "      <td>-0.224918</td>\n",
       "    </tr>\n",
       "    <tr>\n",
       "      <th>2020-03-10</th>\n",
       "      <td>1.069728</td>\n",
       "      <td>-1.165155</td>\n",
       "      <td>-0.435139</td>\n",
       "    </tr>\n",
       "  </tbody>\n",
       "</table>\n",
       "</div>"
      ],
      "text/plain": [
       "                   A         b         c\n",
       "2020-03-06  1.483610 -1.694862  0.832870\n",
       "2020-03-07  1.533467 -0.809444  1.130276\n",
       "2020-03-08 -0.617002 -0.949866 -0.301216\n",
       "2020-03-09 -0.526979 -1.235525 -0.224918\n",
       "2020-03-10  1.069728 -1.165155 -0.435139"
      ]
     },
     "execution_count": 9,
     "metadata": {},
     "output_type": "execute_result"
    }
   ],
   "source": [
    "df.tail()"
   ]
  },
  {
   "cell_type": "code",
   "execution_count": 10,
   "metadata": {},
   "outputs": [
    {
     "data": {
      "text/plain": [
       "DatetimeIndex(['2020-03-01', '2020-03-02', '2020-03-03', '2020-03-04',\n",
       "               '2020-03-05', '2020-03-06', '2020-03-07', '2020-03-08',\n",
       "               '2020-03-09', '2020-03-10'],\n",
       "              dtype='datetime64[ns]', freq='D')"
      ]
     },
     "execution_count": 10,
     "metadata": {},
     "output_type": "execute_result"
    }
   ],
   "source": [
    "df.index"
   ]
  },
  {
   "cell_type": "code",
   "execution_count": 11,
   "metadata": {},
   "outputs": [
    {
     "data": {
      "text/plain": [
       "Index(['A', 'b', 'c'], dtype='object')"
      ]
     },
     "execution_count": 11,
     "metadata": {},
     "output_type": "execute_result"
    }
   ],
   "source": [
    "df.columns"
   ]
  },
  {
   "cell_type": "code",
   "execution_count": 12,
   "metadata": {},
   "outputs": [
    {
     "data": {
      "text/plain": [
       "array([[ 0.14472351, -0.47641597, -1.17435132],\n",
       "       [ 0.16471243, -1.28641785, -0.58329468],\n",
       "       [-0.39445923, -1.12982587,  0.93645167],\n",
       "       [ 0.84273555,  0.90894017,  0.35539505],\n",
       "       [ 1.71437208, -1.59923484,  0.4667118 ],\n",
       "       [ 1.48361021, -1.6948622 ,  0.83287044],\n",
       "       [ 1.53346688, -0.80944434,  1.13027608],\n",
       "       [-0.61700186, -0.94986648, -0.30121594],\n",
       "       [-0.52697901, -1.23552451, -0.22491756],\n",
       "       [ 1.06972831, -1.16515494, -0.43513858]])"
      ]
     },
     "execution_count": 12,
     "metadata": {},
     "output_type": "execute_result"
    }
   ],
   "source": [
    "df.to_numpy()"
   ]
  },
  {
   "cell_type": "code",
   "execution_count": 13,
   "metadata": {},
   "outputs": [
    {
     "data": {
      "text/html": [
       "<div>\n",
       "<style scoped>\n",
       "    .dataframe tbody tr th:only-of-type {\n",
       "        vertical-align: middle;\n",
       "    }\n",
       "\n",
       "    .dataframe tbody tr th {\n",
       "        vertical-align: top;\n",
       "    }\n",
       "\n",
       "    .dataframe thead th {\n",
       "        text-align: right;\n",
       "    }\n",
       "</style>\n",
       "<table border=\"1\" class=\"dataframe\">\n",
       "  <thead>\n",
       "    <tr style=\"text-align: right;\">\n",
       "      <th></th>\n",
       "      <th>A</th>\n",
       "      <th>b</th>\n",
       "      <th>c</th>\n",
       "    </tr>\n",
       "  </thead>\n",
       "  <tbody>\n",
       "    <tr>\n",
       "      <th>count</th>\n",
       "      <td>10.000000</td>\n",
       "      <td>10.000000</td>\n",
       "      <td>10.000000</td>\n",
       "    </tr>\n",
       "    <tr>\n",
       "      <th>mean</th>\n",
       "      <td>0.541491</td>\n",
       "      <td>-0.943781</td>\n",
       "      <td>0.100279</td>\n",
       "    </tr>\n",
       "    <tr>\n",
       "      <th>std</th>\n",
       "      <td>0.899145</td>\n",
       "      <td>0.741542</td>\n",
       "      <td>0.755844</td>\n",
       "    </tr>\n",
       "    <tr>\n",
       "      <th>min</th>\n",
       "      <td>-0.617002</td>\n",
       "      <td>-1.694862</td>\n",
       "      <td>-1.174351</td>\n",
       "    </tr>\n",
       "    <tr>\n",
       "      <th>25%</th>\n",
       "      <td>-0.259664</td>\n",
       "      <td>-1.273695</td>\n",
       "      <td>-0.401658</td>\n",
       "    </tr>\n",
       "    <tr>\n",
       "      <th>50%</th>\n",
       "      <td>0.503724</td>\n",
       "      <td>-1.147490</td>\n",
       "      <td>0.065239</td>\n",
       "    </tr>\n",
       "    <tr>\n",
       "      <th>75%</th>\n",
       "      <td>1.380140</td>\n",
       "      <td>-0.844550</td>\n",
       "      <td>0.741331</td>\n",
       "    </tr>\n",
       "    <tr>\n",
       "      <th>max</th>\n",
       "      <td>1.714372</td>\n",
       "      <td>0.908940</td>\n",
       "      <td>1.130276</td>\n",
       "    </tr>\n",
       "  </tbody>\n",
       "</table>\n",
       "</div>"
      ],
      "text/plain": [
       "               A          b          c\n",
       "count  10.000000  10.000000  10.000000\n",
       "mean    0.541491  -0.943781   0.100279\n",
       "std     0.899145   0.741542   0.755844\n",
       "min    -0.617002  -1.694862  -1.174351\n",
       "25%    -0.259664  -1.273695  -0.401658\n",
       "50%     0.503724  -1.147490   0.065239\n",
       "75%     1.380140  -0.844550   0.741331\n",
       "max     1.714372   0.908940   1.130276"
      ]
     },
     "execution_count": 13,
     "metadata": {},
     "output_type": "execute_result"
    }
   ],
   "source": [
    "df.describe()"
   ]
  },
  {
   "cell_type": "code",
   "execution_count": 14,
   "metadata": {},
   "outputs": [
    {
     "data": {
      "text/html": [
       "<div>\n",
       "<style scoped>\n",
       "    .dataframe tbody tr th:only-of-type {\n",
       "        vertical-align: middle;\n",
       "    }\n",
       "\n",
       "    .dataframe tbody tr th {\n",
       "        vertical-align: top;\n",
       "    }\n",
       "\n",
       "    .dataframe thead th {\n",
       "        text-align: right;\n",
       "    }\n",
       "</style>\n",
       "<table border=\"1\" class=\"dataframe\">\n",
       "  <thead>\n",
       "    <tr style=\"text-align: right;\">\n",
       "      <th></th>\n",
       "      <th>A</th>\n",
       "      <th>b</th>\n",
       "      <th>c</th>\n",
       "    </tr>\n",
       "  </thead>\n",
       "  <tbody>\n",
       "    <tr>\n",
       "      <th>2020-03-07</th>\n",
       "      <td>1.533467</td>\n",
       "      <td>-0.809444</td>\n",
       "      <td>1.130276</td>\n",
       "    </tr>\n",
       "    <tr>\n",
       "      <th>2020-03-03</th>\n",
       "      <td>-0.394459</td>\n",
       "      <td>-1.129826</td>\n",
       "      <td>0.936452</td>\n",
       "    </tr>\n",
       "    <tr>\n",
       "      <th>2020-03-06</th>\n",
       "      <td>1.483610</td>\n",
       "      <td>-1.694862</td>\n",
       "      <td>0.832870</td>\n",
       "    </tr>\n",
       "    <tr>\n",
       "      <th>2020-03-05</th>\n",
       "      <td>1.714372</td>\n",
       "      <td>-1.599235</td>\n",
       "      <td>0.466712</td>\n",
       "    </tr>\n",
       "    <tr>\n",
       "      <th>2020-03-04</th>\n",
       "      <td>0.842736</td>\n",
       "      <td>0.908940</td>\n",
       "      <td>0.355395</td>\n",
       "    </tr>\n",
       "    <tr>\n",
       "      <th>2020-03-09</th>\n",
       "      <td>-0.526979</td>\n",
       "      <td>-1.235525</td>\n",
       "      <td>-0.224918</td>\n",
       "    </tr>\n",
       "    <tr>\n",
       "      <th>2020-03-08</th>\n",
       "      <td>-0.617002</td>\n",
       "      <td>-0.949866</td>\n",
       "      <td>-0.301216</td>\n",
       "    </tr>\n",
       "    <tr>\n",
       "      <th>2020-03-10</th>\n",
       "      <td>1.069728</td>\n",
       "      <td>-1.165155</td>\n",
       "      <td>-0.435139</td>\n",
       "    </tr>\n",
       "    <tr>\n",
       "      <th>2020-03-02</th>\n",
       "      <td>0.164712</td>\n",
       "      <td>-1.286418</td>\n",
       "      <td>-0.583295</td>\n",
       "    </tr>\n",
       "    <tr>\n",
       "      <th>2020-03-01</th>\n",
       "      <td>0.144724</td>\n",
       "      <td>-0.476416</td>\n",
       "      <td>-1.174351</td>\n",
       "    </tr>\n",
       "  </tbody>\n",
       "</table>\n",
       "</div>"
      ],
      "text/plain": [
       "                   A         b         c\n",
       "2020-03-07  1.533467 -0.809444  1.130276\n",
       "2020-03-03 -0.394459 -1.129826  0.936452\n",
       "2020-03-06  1.483610 -1.694862  0.832870\n",
       "2020-03-05  1.714372 -1.599235  0.466712\n",
       "2020-03-04  0.842736  0.908940  0.355395\n",
       "2020-03-09 -0.526979 -1.235525 -0.224918\n",
       "2020-03-08 -0.617002 -0.949866 -0.301216\n",
       "2020-03-10  1.069728 -1.165155 -0.435139\n",
       "2020-03-02  0.164712 -1.286418 -0.583295\n",
       "2020-03-01  0.144724 -0.476416 -1.174351"
      ]
     },
     "execution_count": 14,
     "metadata": {},
     "output_type": "execute_result"
    }
   ],
   "source": [
    "df.sort_values(by='c',ascending= False)"
   ]
  },
  {
   "cell_type": "code",
   "execution_count": 15,
   "metadata": {},
   "outputs": [
    {
     "data": {
      "text/plain": [
       "2020-03-01    0.144724\n",
       "2020-03-02    0.164712\n",
       "2020-03-03   -0.394459\n",
       "2020-03-04    0.842736\n",
       "2020-03-05    1.714372\n",
       "2020-03-06    1.483610\n",
       "2020-03-07    1.533467\n",
       "2020-03-08   -0.617002\n",
       "2020-03-09   -0.526979\n",
       "2020-03-10    1.069728\n",
       "Freq: D, Name: A, dtype: float64"
      ]
     },
     "execution_count": 15,
     "metadata": {},
     "output_type": "execute_result"
    }
   ],
   "source": [
    "df['A']"
   ]
  },
  {
   "cell_type": "code",
   "execution_count": 16,
   "metadata": {},
   "outputs": [
    {
     "data": {
      "text/html": [
       "<div>\n",
       "<style scoped>\n",
       "    .dataframe tbody tr th:only-of-type {\n",
       "        vertical-align: middle;\n",
       "    }\n",
       "\n",
       "    .dataframe tbody tr th {\n",
       "        vertical-align: top;\n",
       "    }\n",
       "\n",
       "    .dataframe thead th {\n",
       "        text-align: right;\n",
       "    }\n",
       "</style>\n",
       "<table border=\"1\" class=\"dataframe\">\n",
       "  <thead>\n",
       "    <tr style=\"text-align: right;\">\n",
       "      <th></th>\n",
       "      <th>A</th>\n",
       "      <th>b</th>\n",
       "      <th>c</th>\n",
       "    </tr>\n",
       "  </thead>\n",
       "  <tbody>\n",
       "    <tr>\n",
       "      <th>2020-03-01</th>\n",
       "      <td>0.144724</td>\n",
       "      <td>-0.476416</td>\n",
       "      <td>-1.174351</td>\n",
       "    </tr>\n",
       "    <tr>\n",
       "      <th>2020-03-02</th>\n",
       "      <td>0.164712</td>\n",
       "      <td>-1.286418</td>\n",
       "      <td>-0.583295</td>\n",
       "    </tr>\n",
       "    <tr>\n",
       "      <th>2020-03-03</th>\n",
       "      <td>-0.394459</td>\n",
       "      <td>-1.129826</td>\n",
       "      <td>0.936452</td>\n",
       "    </tr>\n",
       "    <tr>\n",
       "      <th>2020-03-04</th>\n",
       "      <td>0.842736</td>\n",
       "      <td>0.908940</td>\n",
       "      <td>0.355395</td>\n",
       "    </tr>\n",
       "  </tbody>\n",
       "</table>\n",
       "</div>"
      ],
      "text/plain": [
       "                   A         b         c\n",
       "2020-03-01  0.144724 -0.476416 -1.174351\n",
       "2020-03-02  0.164712 -1.286418 -0.583295\n",
       "2020-03-03 -0.394459 -1.129826  0.936452\n",
       "2020-03-04  0.842736  0.908940  0.355395"
      ]
     },
     "execution_count": 16,
     "metadata": {},
     "output_type": "execute_result"
    }
   ],
   "source": [
    "df[0:4]"
   ]
  },
  {
   "cell_type": "code",
   "execution_count": 17,
   "metadata": {},
   "outputs": [
    {
     "data": {
      "text/plain": [
       "A    0.144724\n",
       "b   -0.476416\n",
       "c   -1.174351\n",
       "Name: 2020-03-01 00:00:00, dtype: float64"
      ]
     },
     "execution_count": 17,
     "metadata": {},
     "output_type": "execute_result"
    }
   ],
   "source": [
    "df.loc[d[0]]"
   ]
  },
  {
   "cell_type": "code",
   "execution_count": 18,
   "metadata": {},
   "outputs": [
    {
     "data": {
      "text/html": [
       "<div>\n",
       "<style scoped>\n",
       "    .dataframe tbody tr th:only-of-type {\n",
       "        vertical-align: middle;\n",
       "    }\n",
       "\n",
       "    .dataframe tbody tr th {\n",
       "        vertical-align: top;\n",
       "    }\n",
       "\n",
       "    .dataframe thead th {\n",
       "        text-align: right;\n",
       "    }\n",
       "</style>\n",
       "<table border=\"1\" class=\"dataframe\">\n",
       "  <thead>\n",
       "    <tr style=\"text-align: right;\">\n",
       "      <th></th>\n",
       "      <th>A</th>\n",
       "      <th>b</th>\n",
       "    </tr>\n",
       "  </thead>\n",
       "  <tbody>\n",
       "    <tr>\n",
       "      <th>2020-03-01</th>\n",
       "      <td>0.144724</td>\n",
       "      <td>-0.476416</td>\n",
       "    </tr>\n",
       "    <tr>\n",
       "      <th>2020-03-02</th>\n",
       "      <td>0.164712</td>\n",
       "      <td>-1.286418</td>\n",
       "    </tr>\n",
       "    <tr>\n",
       "      <th>2020-03-03</th>\n",
       "      <td>-0.394459</td>\n",
       "      <td>-1.129826</td>\n",
       "    </tr>\n",
       "    <tr>\n",
       "      <th>2020-03-04</th>\n",
       "      <td>0.842736</td>\n",
       "      <td>0.908940</td>\n",
       "    </tr>\n",
       "    <tr>\n",
       "      <th>2020-03-05</th>\n",
       "      <td>1.714372</td>\n",
       "      <td>-1.599235</td>\n",
       "    </tr>\n",
       "    <tr>\n",
       "      <th>2020-03-06</th>\n",
       "      <td>1.483610</td>\n",
       "      <td>-1.694862</td>\n",
       "    </tr>\n",
       "    <tr>\n",
       "      <th>2020-03-07</th>\n",
       "      <td>1.533467</td>\n",
       "      <td>-0.809444</td>\n",
       "    </tr>\n",
       "    <tr>\n",
       "      <th>2020-03-08</th>\n",
       "      <td>-0.617002</td>\n",
       "      <td>-0.949866</td>\n",
       "    </tr>\n",
       "    <tr>\n",
       "      <th>2020-03-09</th>\n",
       "      <td>-0.526979</td>\n",
       "      <td>-1.235525</td>\n",
       "    </tr>\n",
       "    <tr>\n",
       "      <th>2020-03-10</th>\n",
       "      <td>1.069728</td>\n",
       "      <td>-1.165155</td>\n",
       "    </tr>\n",
       "  </tbody>\n",
       "</table>\n",
       "</div>"
      ],
      "text/plain": [
       "                   A         b\n",
       "2020-03-01  0.144724 -0.476416\n",
       "2020-03-02  0.164712 -1.286418\n",
       "2020-03-03 -0.394459 -1.129826\n",
       "2020-03-04  0.842736  0.908940\n",
       "2020-03-05  1.714372 -1.599235\n",
       "2020-03-06  1.483610 -1.694862\n",
       "2020-03-07  1.533467 -0.809444\n",
       "2020-03-08 -0.617002 -0.949866\n",
       "2020-03-09 -0.526979 -1.235525\n",
       "2020-03-10  1.069728 -1.165155"
      ]
     },
     "execution_count": 18,
     "metadata": {},
     "output_type": "execute_result"
    }
   ],
   "source": [
    "df.loc[:, ['A','b']]"
   ]
  },
  {
   "cell_type": "code",
   "execution_count": 19,
   "metadata": {},
   "outputs": [
    {
     "data": {
      "text/html": [
       "<div>\n",
       "<style scoped>\n",
       "    .dataframe tbody tr th:only-of-type {\n",
       "        vertical-align: middle;\n",
       "    }\n",
       "\n",
       "    .dataframe tbody tr th {\n",
       "        vertical-align: top;\n",
       "    }\n",
       "\n",
       "    .dataframe thead th {\n",
       "        text-align: right;\n",
       "    }\n",
       "</style>\n",
       "<table border=\"1\" class=\"dataframe\">\n",
       "  <thead>\n",
       "    <tr style=\"text-align: right;\">\n",
       "      <th></th>\n",
       "      <th>A</th>\n",
       "      <th>c</th>\n",
       "    </tr>\n",
       "  </thead>\n",
       "  <tbody>\n",
       "    <tr>\n",
       "      <th>2020-03-01</th>\n",
       "      <td>0.144724</td>\n",
       "      <td>-1.174351</td>\n",
       "    </tr>\n",
       "    <tr>\n",
       "      <th>2020-03-02</th>\n",
       "      <td>0.164712</td>\n",
       "      <td>-0.583295</td>\n",
       "    </tr>\n",
       "  </tbody>\n",
       "</table>\n",
       "</div>"
      ],
      "text/plain": [
       "                   A         c\n",
       "2020-03-01  0.144724 -1.174351\n",
       "2020-03-02  0.164712 -0.583295"
      ]
     },
     "execution_count": 19,
     "metadata": {},
     "output_type": "execute_result"
    }
   ],
   "source": [
    "df.loc['20200301':'20200302', ['A','c']]"
   ]
  },
  {
   "cell_type": "code",
   "execution_count": 20,
   "metadata": {},
   "outputs": [
    {
     "data": {
      "text/plain": [
       "A    0.144724\n",
       "c   -1.174351\n",
       "Name: 2020-03-01 00:00:00, dtype: float64"
      ]
     },
     "execution_count": 20,
     "metadata": {},
     "output_type": "execute_result"
    }
   ],
   "source": [
    "df.loc[d[0], ['A','c']] #d[0]= 20200301"
   ]
  },
  {
   "cell_type": "code",
   "execution_count": 21,
   "metadata": {},
   "outputs": [
    {
     "data": {
      "text/plain": [
       "-0.583294684474715"
      ]
     },
     "execution_count": 21,
     "metadata": {},
     "output_type": "execute_result"
    }
   ],
   "source": [
    "df.at[d[1],'c']"
   ]
  },
  {
   "cell_type": "code",
   "execution_count": 22,
   "metadata": {},
   "outputs": [
    {
     "data": {
      "text/html": [
       "<div>\n",
       "<style scoped>\n",
       "    .dataframe tbody tr th:only-of-type {\n",
       "        vertical-align: middle;\n",
       "    }\n",
       "\n",
       "    .dataframe tbody tr th {\n",
       "        vertical-align: top;\n",
       "    }\n",
       "\n",
       "    .dataframe thead th {\n",
       "        text-align: right;\n",
       "    }\n",
       "</style>\n",
       "<table border=\"1\" class=\"dataframe\">\n",
       "  <thead>\n",
       "    <tr style=\"text-align: right;\">\n",
       "      <th></th>\n",
       "      <th>A</th>\n",
       "      <th>b</th>\n",
       "    </tr>\n",
       "  </thead>\n",
       "  <tbody>\n",
       "    <tr>\n",
       "      <th>2020-03-04</th>\n",
       "      <td>0.842736</td>\n",
       "      <td>0.908940</td>\n",
       "    </tr>\n",
       "    <tr>\n",
       "      <th>2020-03-05</th>\n",
       "      <td>1.714372</td>\n",
       "      <td>-1.599235</td>\n",
       "    </tr>\n",
       "  </tbody>\n",
       "</table>\n",
       "</div>"
      ],
      "text/plain": [
       "                   A         b\n",
       "2020-03-04  0.842736  0.908940\n",
       "2020-03-05  1.714372 -1.599235"
      ]
     },
     "execution_count": 22,
     "metadata": {},
     "output_type": "execute_result"
    }
   ],
   "source": [
    "df.iloc[3:5,0:2]"
   ]
  },
  {
   "cell_type": "code",
   "execution_count": 23,
   "metadata": {},
   "outputs": [
    {
     "data": {
      "text/html": [
       "<div>\n",
       "<style scoped>\n",
       "    .dataframe tbody tr th:only-of-type {\n",
       "        vertical-align: middle;\n",
       "    }\n",
       "\n",
       "    .dataframe tbody tr th {\n",
       "        vertical-align: top;\n",
       "    }\n",
       "\n",
       "    .dataframe thead th {\n",
       "        text-align: right;\n",
       "    }\n",
       "</style>\n",
       "<table border=\"1\" class=\"dataframe\">\n",
       "  <thead>\n",
       "    <tr style=\"text-align: right;\">\n",
       "      <th></th>\n",
       "      <th>A</th>\n",
       "      <th>b</th>\n",
       "      <th>c</th>\n",
       "    </tr>\n",
       "  </thead>\n",
       "  <tbody>\n",
       "    <tr>\n",
       "      <th>2020-03-01</th>\n",
       "      <td>NaN</td>\n",
       "      <td>NaN</td>\n",
       "      <td>NaN</td>\n",
       "    </tr>\n",
       "    <tr>\n",
       "      <th>2020-03-02</th>\n",
       "      <td>NaN</td>\n",
       "      <td>NaN</td>\n",
       "      <td>NaN</td>\n",
       "    </tr>\n",
       "    <tr>\n",
       "      <th>2020-03-03</th>\n",
       "      <td>NaN</td>\n",
       "      <td>NaN</td>\n",
       "      <td>NaN</td>\n",
       "    </tr>\n",
       "    <tr>\n",
       "      <th>2020-03-04</th>\n",
       "      <td>NaN</td>\n",
       "      <td>NaN</td>\n",
       "      <td>NaN</td>\n",
       "    </tr>\n",
       "    <tr>\n",
       "      <th>2020-03-05</th>\n",
       "      <td>NaN</td>\n",
       "      <td>NaN</td>\n",
       "      <td>NaN</td>\n",
       "    </tr>\n",
       "    <tr>\n",
       "      <th>2020-03-06</th>\n",
       "      <td>NaN</td>\n",
       "      <td>NaN</td>\n",
       "      <td>NaN</td>\n",
       "    </tr>\n",
       "    <tr>\n",
       "      <th>2020-03-07</th>\n",
       "      <td>NaN</td>\n",
       "      <td>NaN</td>\n",
       "      <td>NaN</td>\n",
       "    </tr>\n",
       "    <tr>\n",
       "      <th>2020-03-08</th>\n",
       "      <td>NaN</td>\n",
       "      <td>NaN</td>\n",
       "      <td>NaN</td>\n",
       "    </tr>\n",
       "    <tr>\n",
       "      <th>2020-03-09</th>\n",
       "      <td>NaN</td>\n",
       "      <td>NaN</td>\n",
       "      <td>NaN</td>\n",
       "    </tr>\n",
       "    <tr>\n",
       "      <th>2020-03-10</th>\n",
       "      <td>NaN</td>\n",
       "      <td>NaN</td>\n",
       "      <td>NaN</td>\n",
       "    </tr>\n",
       "  </tbody>\n",
       "</table>\n",
       "</div>"
      ],
      "text/plain": [
       "             A   b   c\n",
       "2020-03-01 NaN NaN NaN\n",
       "2020-03-02 NaN NaN NaN\n",
       "2020-03-03 NaN NaN NaN\n",
       "2020-03-04 NaN NaN NaN\n",
       "2020-03-05 NaN NaN NaN\n",
       "2020-03-06 NaN NaN NaN\n",
       "2020-03-07 NaN NaN NaN\n",
       "2020-03-08 NaN NaN NaN\n",
       "2020-03-09 NaN NaN NaN\n",
       "2020-03-10 NaN NaN NaN"
      ]
     },
     "execution_count": 23,
     "metadata": {},
     "output_type": "execute_result"
    }
   ],
   "source": [
    "df[df>2]"
   ]
  },
  {
   "cell_type": "markdown",
   "metadata": {},
   "source": [
    "Handling missing data"
   ]
  },
  {
   "cell_type": "code",
   "execution_count": 24,
   "metadata": {},
   "outputs": [
    {
     "data": {
      "text/html": [
       "<div>\n",
       "<style scoped>\n",
       "    .dataframe tbody tr th:only-of-type {\n",
       "        vertical-align: middle;\n",
       "    }\n",
       "\n",
       "    .dataframe tbody tr th {\n",
       "        vertical-align: top;\n",
       "    }\n",
       "\n",
       "    .dataframe thead th {\n",
       "        text-align: right;\n",
       "    }\n",
       "</style>\n",
       "<table border=\"1\" class=\"dataframe\">\n",
       "  <thead>\n",
       "    <tr style=\"text-align: right;\">\n",
       "      <th></th>\n",
       "      <th>A</th>\n",
       "      <th>b</th>\n",
       "      <th>c</th>\n",
       "      <th>d</th>\n",
       "    </tr>\n",
       "  </thead>\n",
       "  <tbody>\n",
       "    <tr>\n",
       "      <th>2020-03-01</th>\n",
       "      <td>0.144724</td>\n",
       "      <td>-0.476416</td>\n",
       "      <td>-1.174351</td>\n",
       "      <td>NaN</td>\n",
       "    </tr>\n",
       "    <tr>\n",
       "      <th>2020-03-02</th>\n",
       "      <td>0.164712</td>\n",
       "      <td>-1.286418</td>\n",
       "      <td>-0.583295</td>\n",
       "      <td>NaN</td>\n",
       "    </tr>\n",
       "    <tr>\n",
       "      <th>2020-03-03</th>\n",
       "      <td>-0.394459</td>\n",
       "      <td>-1.129826</td>\n",
       "      <td>0.936452</td>\n",
       "      <td>NaN</td>\n",
       "    </tr>\n",
       "  </tbody>\n",
       "</table>\n",
       "</div>"
      ],
      "text/plain": [
       "                   A         b         c   d\n",
       "2020-03-01  0.144724 -0.476416 -1.174351 NaN\n",
       "2020-03-02  0.164712 -1.286418 -0.583295 NaN\n",
       "2020-03-03 -0.394459 -1.129826  0.936452 NaN"
      ]
     },
     "execution_count": 24,
     "metadata": {},
     "output_type": "execute_result"
    }
   ],
   "source": [
    "df2 = df.reindex(index = d[0:3], columns = list(df.columns)+['d'])\n",
    "df2"
   ]
  },
  {
   "cell_type": "code",
   "execution_count": 25,
   "metadata": {},
   "outputs": [],
   "source": [
    "df2.loc[d[0:2],'d']=1"
   ]
  },
  {
   "cell_type": "code",
   "execution_count": 26,
   "metadata": {},
   "outputs": [
    {
     "data": {
      "text/html": [
       "<div>\n",
       "<style scoped>\n",
       "    .dataframe tbody tr th:only-of-type {\n",
       "        vertical-align: middle;\n",
       "    }\n",
       "\n",
       "    .dataframe tbody tr th {\n",
       "        vertical-align: top;\n",
       "    }\n",
       "\n",
       "    .dataframe thead th {\n",
       "        text-align: right;\n",
       "    }\n",
       "</style>\n",
       "<table border=\"1\" class=\"dataframe\">\n",
       "  <thead>\n",
       "    <tr style=\"text-align: right;\">\n",
       "      <th></th>\n",
       "      <th>A</th>\n",
       "      <th>b</th>\n",
       "      <th>c</th>\n",
       "      <th>d</th>\n",
       "    </tr>\n",
       "  </thead>\n",
       "  <tbody>\n",
       "    <tr>\n",
       "      <th>2020-03-01</th>\n",
       "      <td>0.144724</td>\n",
       "      <td>-0.476416</td>\n",
       "      <td>-1.174351</td>\n",
       "      <td>1.0</td>\n",
       "    </tr>\n",
       "    <tr>\n",
       "      <th>2020-03-02</th>\n",
       "      <td>0.164712</td>\n",
       "      <td>-1.286418</td>\n",
       "      <td>-0.583295</td>\n",
       "      <td>1.0</td>\n",
       "    </tr>\n",
       "    <tr>\n",
       "      <th>2020-03-03</th>\n",
       "      <td>-0.394459</td>\n",
       "      <td>-1.129826</td>\n",
       "      <td>0.936452</td>\n",
       "      <td>NaN</td>\n",
       "    </tr>\n",
       "  </tbody>\n",
       "</table>\n",
       "</div>"
      ],
      "text/plain": [
       "                   A         b         c    d\n",
       "2020-03-01  0.144724 -0.476416 -1.174351  1.0\n",
       "2020-03-02  0.164712 -1.286418 -0.583295  1.0\n",
       "2020-03-03 -0.394459 -1.129826  0.936452  NaN"
      ]
     },
     "execution_count": 26,
     "metadata": {},
     "output_type": "execute_result"
    }
   ],
   "source": [
    "df2"
   ]
  },
  {
   "cell_type": "code",
   "execution_count": 27,
   "metadata": {},
   "outputs": [
    {
     "data": {
      "text/html": [
       "<div>\n",
       "<style scoped>\n",
       "    .dataframe tbody tr th:only-of-type {\n",
       "        vertical-align: middle;\n",
       "    }\n",
       "\n",
       "    .dataframe tbody tr th {\n",
       "        vertical-align: top;\n",
       "    }\n",
       "\n",
       "    .dataframe thead th {\n",
       "        text-align: right;\n",
       "    }\n",
       "</style>\n",
       "<table border=\"1\" class=\"dataframe\">\n",
       "  <thead>\n",
       "    <tr style=\"text-align: right;\">\n",
       "      <th></th>\n",
       "      <th>A</th>\n",
       "      <th>b</th>\n",
       "      <th>c</th>\n",
       "      <th>d</th>\n",
       "    </tr>\n",
       "  </thead>\n",
       "  <tbody>\n",
       "    <tr>\n",
       "      <th>2020-03-01</th>\n",
       "      <td>False</td>\n",
       "      <td>False</td>\n",
       "      <td>False</td>\n",
       "      <td>False</td>\n",
       "    </tr>\n",
       "    <tr>\n",
       "      <th>2020-03-02</th>\n",
       "      <td>False</td>\n",
       "      <td>False</td>\n",
       "      <td>False</td>\n",
       "      <td>False</td>\n",
       "    </tr>\n",
       "    <tr>\n",
       "      <th>2020-03-03</th>\n",
       "      <td>False</td>\n",
       "      <td>False</td>\n",
       "      <td>False</td>\n",
       "      <td>True</td>\n",
       "    </tr>\n",
       "  </tbody>\n",
       "</table>\n",
       "</div>"
      ],
      "text/plain": [
       "                A      b      c      d\n",
       "2020-03-01  False  False  False  False\n",
       "2020-03-02  False  False  False  False\n",
       "2020-03-03  False  False  False   True"
      ]
     },
     "execution_count": 27,
     "metadata": {},
     "output_type": "execute_result"
    }
   ],
   "source": [
    "df2.isnull()"
   ]
  },
  {
   "cell_type": "code",
   "execution_count": 28,
   "metadata": {},
   "outputs": [
    {
     "data": {
      "text/plain": [
       "A    3\n",
       "b    3\n",
       "c    3\n",
       "d    3\n",
       "dtype: int64"
      ]
     },
     "execution_count": 28,
     "metadata": {},
     "output_type": "execute_result"
    }
   ],
   "source": [
    "df2.isnull().count()"
   ]
  },
  {
   "cell_type": "code",
   "execution_count": 29,
   "metadata": {},
   "outputs": [
    {
     "data": {
      "text/html": [
       "<div>\n",
       "<style scoped>\n",
       "    .dataframe tbody tr th:only-of-type {\n",
       "        vertical-align: middle;\n",
       "    }\n",
       "\n",
       "    .dataframe tbody tr th {\n",
       "        vertical-align: top;\n",
       "    }\n",
       "\n",
       "    .dataframe thead th {\n",
       "        text-align: right;\n",
       "    }\n",
       "</style>\n",
       "<table border=\"1\" class=\"dataframe\">\n",
       "  <thead>\n",
       "    <tr style=\"text-align: right;\">\n",
       "      <th></th>\n",
       "      <th>A</th>\n",
       "      <th>b</th>\n",
       "      <th>c</th>\n",
       "      <th>d</th>\n",
       "    </tr>\n",
       "  </thead>\n",
       "  <tbody>\n",
       "    <tr>\n",
       "      <th>2020-03-01</th>\n",
       "      <td>0.144724</td>\n",
       "      <td>-0.476416</td>\n",
       "      <td>-1.174351</td>\n",
       "      <td>1.0</td>\n",
       "    </tr>\n",
       "    <tr>\n",
       "      <th>2020-03-02</th>\n",
       "      <td>0.164712</td>\n",
       "      <td>-1.286418</td>\n",
       "      <td>-0.583295</td>\n",
       "      <td>1.0</td>\n",
       "    </tr>\n",
       "  </tbody>\n",
       "</table>\n",
       "</div>"
      ],
      "text/plain": [
       "                   A         b         c    d\n",
       "2020-03-01  0.144724 -0.476416 -1.174351  1.0\n",
       "2020-03-02  0.164712 -1.286418 -0.583295  1.0"
      ]
     },
     "execution_count": 29,
     "metadata": {},
     "output_type": "execute_result"
    }
   ],
   "source": [
    "df2.dropna()"
   ]
  },
  {
   "cell_type": "code",
   "execution_count": 30,
   "metadata": {},
   "outputs": [
    {
     "data": {
      "text/html": [
       "<div>\n",
       "<style scoped>\n",
       "    .dataframe tbody tr th:only-of-type {\n",
       "        vertical-align: middle;\n",
       "    }\n",
       "\n",
       "    .dataframe tbody tr th {\n",
       "        vertical-align: top;\n",
       "    }\n",
       "\n",
       "    .dataframe thead th {\n",
       "        text-align: right;\n",
       "    }\n",
       "</style>\n",
       "<table border=\"1\" class=\"dataframe\">\n",
       "  <thead>\n",
       "    <tr style=\"text-align: right;\">\n",
       "      <th></th>\n",
       "      <th>A</th>\n",
       "      <th>b</th>\n",
       "      <th>c</th>\n",
       "      <th>d</th>\n",
       "    </tr>\n",
       "  </thead>\n",
       "  <tbody>\n",
       "    <tr>\n",
       "      <th>2020-03-01</th>\n",
       "      <td>0.144724</td>\n",
       "      <td>-0.476416</td>\n",
       "      <td>-1.174351</td>\n",
       "      <td>1.0</td>\n",
       "    </tr>\n",
       "    <tr>\n",
       "      <th>2020-03-02</th>\n",
       "      <td>0.164712</td>\n",
       "      <td>-1.286418</td>\n",
       "      <td>-0.583295</td>\n",
       "      <td>1.0</td>\n",
       "    </tr>\n",
       "    <tr>\n",
       "      <th>2020-03-03</th>\n",
       "      <td>-0.394459</td>\n",
       "      <td>-1.129826</td>\n",
       "      <td>0.936452</td>\n",
       "      <td>2.0</td>\n",
       "    </tr>\n",
       "  </tbody>\n",
       "</table>\n",
       "</div>"
      ],
      "text/plain": [
       "                   A         b         c    d\n",
       "2020-03-01  0.144724 -0.476416 -1.174351  1.0\n",
       "2020-03-02  0.164712 -1.286418 -0.583295  1.0\n",
       "2020-03-03 -0.394459 -1.129826  0.936452  2.0"
      ]
     },
     "execution_count": 30,
     "metadata": {},
     "output_type": "execute_result"
    }
   ],
   "source": [
    "df2.fillna(value = 2)"
   ]
  },
  {
   "cell_type": "code",
   "execution_count": 31,
   "metadata": {},
   "outputs": [
    {
     "data": {
      "text/html": [
       "<div>\n",
       "<style scoped>\n",
       "    .dataframe tbody tr th:only-of-type {\n",
       "        vertical-align: middle;\n",
       "    }\n",
       "\n",
       "    .dataframe tbody tr th {\n",
       "        vertical-align: top;\n",
       "    }\n",
       "\n",
       "    .dataframe thead th {\n",
       "        text-align: right;\n",
       "    }\n",
       "</style>\n",
       "<table border=\"1\" class=\"dataframe\">\n",
       "  <thead>\n",
       "    <tr style=\"text-align: right;\">\n",
       "      <th></th>\n",
       "      <th>A</th>\n",
       "      <th>b</th>\n",
       "      <th>c</th>\n",
       "      <th>d</th>\n",
       "    </tr>\n",
       "  </thead>\n",
       "  <tbody>\n",
       "    <tr>\n",
       "      <th>2020-03-01</th>\n",
       "      <td>False</td>\n",
       "      <td>False</td>\n",
       "      <td>False</td>\n",
       "      <td>False</td>\n",
       "    </tr>\n",
       "    <tr>\n",
       "      <th>2020-03-02</th>\n",
       "      <td>False</td>\n",
       "      <td>False</td>\n",
       "      <td>False</td>\n",
       "      <td>False</td>\n",
       "    </tr>\n",
       "    <tr>\n",
       "      <th>2020-03-03</th>\n",
       "      <td>False</td>\n",
       "      <td>False</td>\n",
       "      <td>False</td>\n",
       "      <td>True</td>\n",
       "    </tr>\n",
       "  </tbody>\n",
       "</table>\n",
       "</div>"
      ],
      "text/plain": [
       "                A      b      c      d\n",
       "2020-03-01  False  False  False  False\n",
       "2020-03-02  False  False  False  False\n",
       "2020-03-03  False  False  False   True"
      ]
     },
     "execution_count": 31,
     "metadata": {},
     "output_type": "execute_result"
    }
   ],
   "source": [
    "pd.isna(df2)"
   ]
  },
  {
   "cell_type": "markdown",
   "metadata": {},
   "source": [
    "Pandas operations"
   ]
  },
  {
   "cell_type": "code",
   "execution_count": 32,
   "metadata": {},
   "outputs": [
    {
     "data": {
      "text/plain": [
       "A   -0.028341\n",
       "b   -0.964220\n",
       "c   -0.273731\n",
       "d    1.000000\n",
       "dtype: float64"
      ]
     },
     "execution_count": 32,
     "metadata": {},
     "output_type": "execute_result"
    }
   ],
   "source": [
    "df2.mean()"
   ]
  },
  {
   "cell_type": "code",
   "execution_count": 33,
   "metadata": {},
   "outputs": [
    {
     "data": {
      "text/plain": [
       "2020-03-01   -0.126511\n",
       "2020-03-02   -0.176250\n",
       "2020-03-03   -0.195944\n",
       "Freq: D, dtype: float64"
      ]
     },
     "execution_count": 33,
     "metadata": {},
     "output_type": "execute_result"
    }
   ],
   "source": [
    "df2.mean(1)"
   ]
  },
  {
   "cell_type": "code",
   "execution_count": 34,
   "metadata": {},
   "outputs": [
    {
     "data": {
      "text/html": [
       "<div>\n",
       "<style scoped>\n",
       "    .dataframe tbody tr th:only-of-type {\n",
       "        vertical-align: middle;\n",
       "    }\n",
       "\n",
       "    .dataframe tbody tr th {\n",
       "        vertical-align: top;\n",
       "    }\n",
       "\n",
       "    .dataframe thead th {\n",
       "        text-align: right;\n",
       "    }\n",
       "</style>\n",
       "<table border=\"1\" class=\"dataframe\">\n",
       "  <thead>\n",
       "    <tr style=\"text-align: right;\">\n",
       "      <th></th>\n",
       "      <th>A</th>\n",
       "      <th>b</th>\n",
       "      <th>c</th>\n",
       "      <th>d</th>\n",
       "    </tr>\n",
       "  </thead>\n",
       "  <tbody>\n",
       "    <tr>\n",
       "      <th>2020-03-01</th>\n",
       "      <td>0.144724</td>\n",
       "      <td>-0.476416</td>\n",
       "      <td>-1.174351</td>\n",
       "      <td>1.0</td>\n",
       "    </tr>\n",
       "    <tr>\n",
       "      <th>2020-03-02</th>\n",
       "      <td>0.164712</td>\n",
       "      <td>-1.286418</td>\n",
       "      <td>-0.583295</td>\n",
       "      <td>1.0</td>\n",
       "    </tr>\n",
       "    <tr>\n",
       "      <th>2020-03-03</th>\n",
       "      <td>-0.394459</td>\n",
       "      <td>-1.129826</td>\n",
       "      <td>0.936452</td>\n",
       "      <td>NaN</td>\n",
       "    </tr>\n",
       "  </tbody>\n",
       "</table>\n",
       "</div>"
      ],
      "text/plain": [
       "                   A         b         c    d\n",
       "2020-03-01  0.144724 -0.476416 -1.174351  1.0\n",
       "2020-03-02  0.164712 -1.286418 -0.583295  1.0\n",
       "2020-03-03 -0.394459 -1.129826  0.936452  NaN"
      ]
     },
     "execution_count": 34,
     "metadata": {},
     "output_type": "execute_result"
    }
   ],
   "source": [
    "df2"
   ]
  },
  {
   "cell_type": "code",
   "execution_count": 35,
   "metadata": {},
   "outputs": [
    {
     "data": {
      "text/plain": [
       "2020-03-01    NaN\n",
       "2020-03-02    1.0\n",
       "2020-03-03    2.0\n",
       "2020-03-04    3.0\n",
       "2020-03-05    4.0\n",
       "2020-03-06    5.0\n",
       "2020-03-07    6.0\n",
       "2020-03-08    7.0\n",
       "2020-03-09    NaN\n",
       "2020-03-10    8.0\n",
       "Freq: D, dtype: float64"
      ]
     },
     "execution_count": 35,
     "metadata": {},
     "output_type": "execute_result"
    }
   ],
   "source": [
    "s1 = pd.Series([1,2,3,4,5,6,7,np.nan,8,9], index=d).shift(1)\n",
    "s1"
   ]
  },
  {
   "cell_type": "code",
   "execution_count": 36,
   "metadata": {},
   "outputs": [
    {
     "data": {
      "text/html": [
       "<div>\n",
       "<style scoped>\n",
       "    .dataframe tbody tr th:only-of-type {\n",
       "        vertical-align: middle;\n",
       "    }\n",
       "\n",
       "    .dataframe tbody tr th {\n",
       "        vertical-align: top;\n",
       "    }\n",
       "\n",
       "    .dataframe thead th {\n",
       "        text-align: right;\n",
       "    }\n",
       "</style>\n",
       "<table border=\"1\" class=\"dataframe\">\n",
       "  <thead>\n",
       "    <tr style=\"text-align: right;\">\n",
       "      <th></th>\n",
       "      <th>A</th>\n",
       "      <th>b</th>\n",
       "      <th>c</th>\n",
       "    </tr>\n",
       "  </thead>\n",
       "  <tbody>\n",
       "    <tr>\n",
       "      <th>2020-03-01</th>\n",
       "      <td>0.144724</td>\n",
       "      <td>-0.476416</td>\n",
       "      <td>-1.174351</td>\n",
       "    </tr>\n",
       "    <tr>\n",
       "      <th>2020-03-02</th>\n",
       "      <td>0.164712</td>\n",
       "      <td>-1.286418</td>\n",
       "      <td>-0.583295</td>\n",
       "    </tr>\n",
       "    <tr>\n",
       "      <th>2020-03-03</th>\n",
       "      <td>-0.394459</td>\n",
       "      <td>-1.129826</td>\n",
       "      <td>0.936452</td>\n",
       "    </tr>\n",
       "    <tr>\n",
       "      <th>2020-03-04</th>\n",
       "      <td>0.842736</td>\n",
       "      <td>0.908940</td>\n",
       "      <td>0.355395</td>\n",
       "    </tr>\n",
       "    <tr>\n",
       "      <th>2020-03-05</th>\n",
       "      <td>1.714372</td>\n",
       "      <td>-1.599235</td>\n",
       "      <td>0.466712</td>\n",
       "    </tr>\n",
       "    <tr>\n",
       "      <th>2020-03-06</th>\n",
       "      <td>1.483610</td>\n",
       "      <td>-1.694862</td>\n",
       "      <td>0.832870</td>\n",
       "    </tr>\n",
       "    <tr>\n",
       "      <th>2020-03-07</th>\n",
       "      <td>1.533467</td>\n",
       "      <td>-0.809444</td>\n",
       "      <td>1.130276</td>\n",
       "    </tr>\n",
       "    <tr>\n",
       "      <th>2020-03-08</th>\n",
       "      <td>-0.617002</td>\n",
       "      <td>-0.949866</td>\n",
       "      <td>-0.301216</td>\n",
       "    </tr>\n",
       "    <tr>\n",
       "      <th>2020-03-09</th>\n",
       "      <td>-0.526979</td>\n",
       "      <td>-1.235525</td>\n",
       "      <td>-0.224918</td>\n",
       "    </tr>\n",
       "    <tr>\n",
       "      <th>2020-03-10</th>\n",
       "      <td>1.069728</td>\n",
       "      <td>-1.165155</td>\n",
       "      <td>-0.435139</td>\n",
       "    </tr>\n",
       "  </tbody>\n",
       "</table>\n",
       "</div>"
      ],
      "text/plain": [
       "                   A         b         c\n",
       "2020-03-01  0.144724 -0.476416 -1.174351\n",
       "2020-03-02  0.164712 -1.286418 -0.583295\n",
       "2020-03-03 -0.394459 -1.129826  0.936452\n",
       "2020-03-04  0.842736  0.908940  0.355395\n",
       "2020-03-05  1.714372 -1.599235  0.466712\n",
       "2020-03-06  1.483610 -1.694862  0.832870\n",
       "2020-03-07  1.533467 -0.809444  1.130276\n",
       "2020-03-08 -0.617002 -0.949866 -0.301216\n",
       "2020-03-09 -0.526979 -1.235525 -0.224918\n",
       "2020-03-10  1.069728 -1.165155 -0.435139"
      ]
     },
     "execution_count": 36,
     "metadata": {},
     "output_type": "execute_result"
    }
   ],
   "source": [
    "df"
   ]
  },
  {
   "cell_type": "code",
   "execution_count": 37,
   "metadata": {},
   "outputs": [
    {
     "data": {
      "text/html": [
       "<div>\n",
       "<style scoped>\n",
       "    .dataframe tbody tr th:only-of-type {\n",
       "        vertical-align: middle;\n",
       "    }\n",
       "\n",
       "    .dataframe tbody tr th {\n",
       "        vertical-align: top;\n",
       "    }\n",
       "\n",
       "    .dataframe thead th {\n",
       "        text-align: right;\n",
       "    }\n",
       "</style>\n",
       "<table border=\"1\" class=\"dataframe\">\n",
       "  <thead>\n",
       "    <tr style=\"text-align: right;\">\n",
       "      <th></th>\n",
       "      <th>A</th>\n",
       "      <th>b</th>\n",
       "      <th>c</th>\n",
       "    </tr>\n",
       "  </thead>\n",
       "  <tbody>\n",
       "    <tr>\n",
       "      <th>2020-03-01</th>\n",
       "      <td>NaN</td>\n",
       "      <td>NaN</td>\n",
       "      <td>NaN</td>\n",
       "    </tr>\n",
       "    <tr>\n",
       "      <th>2020-03-02</th>\n",
       "      <td>-0.835288</td>\n",
       "      <td>-2.286418</td>\n",
       "      <td>-1.583295</td>\n",
       "    </tr>\n",
       "    <tr>\n",
       "      <th>2020-03-03</th>\n",
       "      <td>-2.394459</td>\n",
       "      <td>-3.129826</td>\n",
       "      <td>-1.063548</td>\n",
       "    </tr>\n",
       "    <tr>\n",
       "      <th>2020-03-04</th>\n",
       "      <td>-2.157264</td>\n",
       "      <td>-2.091060</td>\n",
       "      <td>-2.644605</td>\n",
       "    </tr>\n",
       "    <tr>\n",
       "      <th>2020-03-05</th>\n",
       "      <td>-2.285628</td>\n",
       "      <td>-5.599235</td>\n",
       "      <td>-3.533288</td>\n",
       "    </tr>\n",
       "    <tr>\n",
       "      <th>2020-03-06</th>\n",
       "      <td>-3.516390</td>\n",
       "      <td>-6.694862</td>\n",
       "      <td>-4.167130</td>\n",
       "    </tr>\n",
       "    <tr>\n",
       "      <th>2020-03-07</th>\n",
       "      <td>-4.466533</td>\n",
       "      <td>-6.809444</td>\n",
       "      <td>-4.869724</td>\n",
       "    </tr>\n",
       "    <tr>\n",
       "      <th>2020-03-08</th>\n",
       "      <td>-7.617002</td>\n",
       "      <td>-7.949866</td>\n",
       "      <td>-7.301216</td>\n",
       "    </tr>\n",
       "    <tr>\n",
       "      <th>2020-03-09</th>\n",
       "      <td>NaN</td>\n",
       "      <td>NaN</td>\n",
       "      <td>NaN</td>\n",
       "    </tr>\n",
       "    <tr>\n",
       "      <th>2020-03-10</th>\n",
       "      <td>-6.930272</td>\n",
       "      <td>-9.165155</td>\n",
       "      <td>-8.435139</td>\n",
       "    </tr>\n",
       "  </tbody>\n",
       "</table>\n",
       "</div>"
      ],
      "text/plain": [
       "                   A         b         c\n",
       "2020-03-01       NaN       NaN       NaN\n",
       "2020-03-02 -0.835288 -2.286418 -1.583295\n",
       "2020-03-03 -2.394459 -3.129826 -1.063548\n",
       "2020-03-04 -2.157264 -2.091060 -2.644605\n",
       "2020-03-05 -2.285628 -5.599235 -3.533288\n",
       "2020-03-06 -3.516390 -6.694862 -4.167130\n",
       "2020-03-07 -4.466533 -6.809444 -4.869724\n",
       "2020-03-08 -7.617002 -7.949866 -7.301216\n",
       "2020-03-09       NaN       NaN       NaN\n",
       "2020-03-10 -6.930272 -9.165155 -8.435139"
      ]
     },
     "execution_count": 37,
     "metadata": {},
     "output_type": "execute_result"
    }
   ],
   "source": [
    "df.sub(s1, axis='index')"
   ]
  },
  {
   "cell_type": "markdown",
   "metadata": {},
   "source": [
    "APPLYING FUNCTIONS TO DATA"
   ]
  },
  {
   "cell_type": "code",
   "execution_count": 38,
   "metadata": {},
   "outputs": [
    {
     "data": {
      "text/html": [
       "<div>\n",
       "<style scoped>\n",
       "    .dataframe tbody tr th:only-of-type {\n",
       "        vertical-align: middle;\n",
       "    }\n",
       "\n",
       "    .dataframe tbody tr th {\n",
       "        vertical-align: top;\n",
       "    }\n",
       "\n",
       "    .dataframe thead th {\n",
       "        text-align: right;\n",
       "    }\n",
       "</style>\n",
       "<table border=\"1\" class=\"dataframe\">\n",
       "  <thead>\n",
       "    <tr style=\"text-align: right;\">\n",
       "      <th></th>\n",
       "      <th>A</th>\n",
       "      <th>b</th>\n",
       "      <th>c</th>\n",
       "    </tr>\n",
       "  </thead>\n",
       "  <tbody>\n",
       "    <tr>\n",
       "      <th>2020-03-01</th>\n",
       "      <td>0.144724</td>\n",
       "      <td>-0.476416</td>\n",
       "      <td>-1.174351</td>\n",
       "    </tr>\n",
       "    <tr>\n",
       "      <th>2020-03-02</th>\n",
       "      <td>0.164712</td>\n",
       "      <td>-1.286418</td>\n",
       "      <td>-0.583295</td>\n",
       "    </tr>\n",
       "    <tr>\n",
       "      <th>2020-03-03</th>\n",
       "      <td>-0.394459</td>\n",
       "      <td>-1.129826</td>\n",
       "      <td>0.936452</td>\n",
       "    </tr>\n",
       "    <tr>\n",
       "      <th>2020-03-04</th>\n",
       "      <td>0.842736</td>\n",
       "      <td>0.908940</td>\n",
       "      <td>0.355395</td>\n",
       "    </tr>\n",
       "    <tr>\n",
       "      <th>2020-03-05</th>\n",
       "      <td>1.714372</td>\n",
       "      <td>-1.599235</td>\n",
       "      <td>0.466712</td>\n",
       "    </tr>\n",
       "    <tr>\n",
       "      <th>2020-03-06</th>\n",
       "      <td>1.483610</td>\n",
       "      <td>-1.694862</td>\n",
       "      <td>0.832870</td>\n",
       "    </tr>\n",
       "    <tr>\n",
       "      <th>2020-03-07</th>\n",
       "      <td>1.533467</td>\n",
       "      <td>-0.809444</td>\n",
       "      <td>1.130276</td>\n",
       "    </tr>\n",
       "    <tr>\n",
       "      <th>2020-03-08</th>\n",
       "      <td>-0.617002</td>\n",
       "      <td>-0.949866</td>\n",
       "      <td>-0.301216</td>\n",
       "    </tr>\n",
       "    <tr>\n",
       "      <th>2020-03-09</th>\n",
       "      <td>-0.526979</td>\n",
       "      <td>-1.235525</td>\n",
       "      <td>-0.224918</td>\n",
       "    </tr>\n",
       "    <tr>\n",
       "      <th>2020-03-10</th>\n",
       "      <td>1.069728</td>\n",
       "      <td>-1.165155</td>\n",
       "      <td>-0.435139</td>\n",
       "    </tr>\n",
       "  </tbody>\n",
       "</table>\n",
       "</div>"
      ],
      "text/plain": [
       "                   A         b         c\n",
       "2020-03-01  0.144724 -0.476416 -1.174351\n",
       "2020-03-02  0.164712 -1.286418 -0.583295\n",
       "2020-03-03 -0.394459 -1.129826  0.936452\n",
       "2020-03-04  0.842736  0.908940  0.355395\n",
       "2020-03-05  1.714372 -1.599235  0.466712\n",
       "2020-03-06  1.483610 -1.694862  0.832870\n",
       "2020-03-07  1.533467 -0.809444  1.130276\n",
       "2020-03-08 -0.617002 -0.949866 -0.301216\n",
       "2020-03-09 -0.526979 -1.235525 -0.224918\n",
       "2020-03-10  1.069728 -1.165155 -0.435139"
      ]
     },
     "execution_count": 38,
     "metadata": {},
     "output_type": "execute_result"
    }
   ],
   "source": [
    "df"
   ]
  },
  {
   "cell_type": "code",
   "execution_count": 39,
   "metadata": {},
   "outputs": [
    {
     "data": {
      "text/html": [
       "<div>\n",
       "<style scoped>\n",
       "    .dataframe tbody tr th:only-of-type {\n",
       "        vertical-align: middle;\n",
       "    }\n",
       "\n",
       "    .dataframe tbody tr th {\n",
       "        vertical-align: top;\n",
       "    }\n",
       "\n",
       "    .dataframe thead th {\n",
       "        text-align: right;\n",
       "    }\n",
       "</style>\n",
       "<table border=\"1\" class=\"dataframe\">\n",
       "  <thead>\n",
       "    <tr style=\"text-align: right;\">\n",
       "      <th></th>\n",
       "      <th>A</th>\n",
       "      <th>b</th>\n",
       "      <th>c</th>\n",
       "    </tr>\n",
       "  </thead>\n",
       "  <tbody>\n",
       "    <tr>\n",
       "      <th>2020-03-01</th>\n",
       "      <td>0.144724</td>\n",
       "      <td>-0.476416</td>\n",
       "      <td>-1.174351</td>\n",
       "    </tr>\n",
       "    <tr>\n",
       "      <th>2020-03-02</th>\n",
       "      <td>0.309436</td>\n",
       "      <td>-1.762834</td>\n",
       "      <td>-1.757646</td>\n",
       "    </tr>\n",
       "    <tr>\n",
       "      <th>2020-03-03</th>\n",
       "      <td>-0.085023</td>\n",
       "      <td>-2.892660</td>\n",
       "      <td>-0.821194</td>\n",
       "    </tr>\n",
       "    <tr>\n",
       "      <th>2020-03-04</th>\n",
       "      <td>0.757712</td>\n",
       "      <td>-1.983720</td>\n",
       "      <td>-0.465799</td>\n",
       "    </tr>\n",
       "    <tr>\n",
       "      <th>2020-03-05</th>\n",
       "      <td>2.472084</td>\n",
       "      <td>-3.582954</td>\n",
       "      <td>0.000913</td>\n",
       "    </tr>\n",
       "    <tr>\n",
       "      <th>2020-03-06</th>\n",
       "      <td>3.955695</td>\n",
       "      <td>-5.277817</td>\n",
       "      <td>0.833783</td>\n",
       "    </tr>\n",
       "    <tr>\n",
       "      <th>2020-03-07</th>\n",
       "      <td>5.489161</td>\n",
       "      <td>-6.087261</td>\n",
       "      <td>1.964059</td>\n",
       "    </tr>\n",
       "    <tr>\n",
       "      <th>2020-03-08</th>\n",
       "      <td>4.872160</td>\n",
       "      <td>-7.037127</td>\n",
       "      <td>1.662843</td>\n",
       "    </tr>\n",
       "    <tr>\n",
       "      <th>2020-03-09</th>\n",
       "      <td>4.345181</td>\n",
       "      <td>-8.272652</td>\n",
       "      <td>1.437926</td>\n",
       "    </tr>\n",
       "    <tr>\n",
       "      <th>2020-03-10</th>\n",
       "      <td>5.414909</td>\n",
       "      <td>-9.437807</td>\n",
       "      <td>1.002787</td>\n",
       "    </tr>\n",
       "  </tbody>\n",
       "</table>\n",
       "</div>"
      ],
      "text/plain": [
       "                   A         b         c\n",
       "2020-03-01  0.144724 -0.476416 -1.174351\n",
       "2020-03-02  0.309436 -1.762834 -1.757646\n",
       "2020-03-03 -0.085023 -2.892660 -0.821194\n",
       "2020-03-04  0.757712 -1.983720 -0.465799\n",
       "2020-03-05  2.472084 -3.582954  0.000913\n",
       "2020-03-06  3.955695 -5.277817  0.833783\n",
       "2020-03-07  5.489161 -6.087261  1.964059\n",
       "2020-03-08  4.872160 -7.037127  1.662843\n",
       "2020-03-09  4.345181 -8.272652  1.437926\n",
       "2020-03-10  5.414909 -9.437807  1.002787"
      ]
     },
     "execution_count": 39,
     "metadata": {},
     "output_type": "execute_result"
    }
   ],
   "source": [
    "df.apply(np.cumsum)"
   ]
  },
  {
   "cell_type": "code",
   "execution_count": 40,
   "metadata": {},
   "outputs": [
    {
     "data": {
      "text/plain": [
       "A    2.331374\n",
       "b    2.603802\n",
       "c    2.304627\n",
       "dtype: float64"
      ]
     },
     "execution_count": 40,
     "metadata": {},
     "output_type": "execute_result"
    }
   ],
   "source": [
    "df.apply(lambda x: x.max()-x.min())"
   ]
  },
  {
   "cell_type": "markdown",
   "metadata": {},
   "source": [
    "HISTOGRAM"
   ]
  },
  {
   "cell_type": "code",
   "execution_count": 41,
   "metadata": {},
   "outputs": [
    {
     "data": {
      "text/plain": [
       "1.0    1\n",
       "2.0    1\n",
       "3.0    1\n",
       "4.0    1\n",
       "5.0    1\n",
       "6.0    1\n",
       "7.0    1\n",
       "8.0    1\n",
       "dtype: int64"
      ]
     },
     "execution_count": 41,
     "metadata": {},
     "output_type": "execute_result"
    }
   ],
   "source": [
    "s1.value_counts()"
   ]
  },
  {
   "cell_type": "markdown",
   "metadata": {},
   "source": [
    "STRING"
   ]
  },
  {
   "cell_type": "code",
   "execution_count": 42,
   "metadata": {},
   "outputs": [
    {
     "data": {
      "text/plain": [
       "0       HELLO\n",
       "1    DARKNESS\n",
       "2          MY\n",
       "3         NaN\n",
       "4      FRIEND\n",
       "dtype: object"
      ]
     },
     "execution_count": 42,
     "metadata": {},
     "output_type": "execute_result"
    }
   ],
   "source": [
    "s2 = pd.Series(['hello','darkness','my',np.nan,'friend'])\n",
    "s2.str.upper()"
   ]
  },
  {
   "cell_type": "markdown",
   "metadata": {},
   "source": [
    " Merging [CONCAT/JOIN]"
   ]
  },
  {
   "cell_type": "code",
   "execution_count": 43,
   "metadata": {},
   "outputs": [],
   "source": [
    "df3 = pd.DataFrame(np.random.randn(10,4))"
   ]
  },
  {
   "cell_type": "code",
   "execution_count": 44,
   "metadata": {},
   "outputs": [
    {
     "data": {
      "text/html": [
       "<div>\n",
       "<style scoped>\n",
       "    .dataframe tbody tr th:only-of-type {\n",
       "        vertical-align: middle;\n",
       "    }\n",
       "\n",
       "    .dataframe tbody tr th {\n",
       "        vertical-align: top;\n",
       "    }\n",
       "\n",
       "    .dataframe thead th {\n",
       "        text-align: right;\n",
       "    }\n",
       "</style>\n",
       "<table border=\"1\" class=\"dataframe\">\n",
       "  <thead>\n",
       "    <tr style=\"text-align: right;\">\n",
       "      <th></th>\n",
       "      <th>0</th>\n",
       "      <th>1</th>\n",
       "      <th>2</th>\n",
       "      <th>3</th>\n",
       "    </tr>\n",
       "  </thead>\n",
       "  <tbody>\n",
       "    <tr>\n",
       "      <th>0</th>\n",
       "      <td>-0.008711</td>\n",
       "      <td>0.236538</td>\n",
       "      <td>0.607114</td>\n",
       "      <td>-0.809771</td>\n",
       "    </tr>\n",
       "    <tr>\n",
       "      <th>1</th>\n",
       "      <td>1.046886</td>\n",
       "      <td>1.038953</td>\n",
       "      <td>-0.072102</td>\n",
       "      <td>0.118623</td>\n",
       "    </tr>\n",
       "    <tr>\n",
       "      <th>2</th>\n",
       "      <td>0.126585</td>\n",
       "      <td>-0.209180</td>\n",
       "      <td>0.646523</td>\n",
       "      <td>-0.873557</td>\n",
       "    </tr>\n",
       "    <tr>\n",
       "      <th>3</th>\n",
       "      <td>0.329325</td>\n",
       "      <td>0.083404</td>\n",
       "      <td>0.002216</td>\n",
       "      <td>-0.474928</td>\n",
       "    </tr>\n",
       "    <tr>\n",
       "      <th>4</th>\n",
       "      <td>-0.760875</td>\n",
       "      <td>0.413010</td>\n",
       "      <td>1.764504</td>\n",
       "      <td>-0.489346</td>\n",
       "    </tr>\n",
       "    <tr>\n",
       "      <th>5</th>\n",
       "      <td>-0.299937</td>\n",
       "      <td>-1.616146</td>\n",
       "      <td>2.015738</td>\n",
       "      <td>-1.351218</td>\n",
       "    </tr>\n",
       "    <tr>\n",
       "      <th>6</th>\n",
       "      <td>0.620039</td>\n",
       "      <td>-0.815429</td>\n",
       "      <td>-1.363736</td>\n",
       "      <td>0.580807</td>\n",
       "    </tr>\n",
       "    <tr>\n",
       "      <th>7</th>\n",
       "      <td>-0.377999</td>\n",
       "      <td>0.759438</td>\n",
       "      <td>-2.348193</td>\n",
       "      <td>1.042735</td>\n",
       "    </tr>\n",
       "    <tr>\n",
       "      <th>8</th>\n",
       "      <td>0.036248</td>\n",
       "      <td>-0.416884</td>\n",
       "      <td>-1.051659</td>\n",
       "      <td>-1.817241</td>\n",
       "    </tr>\n",
       "    <tr>\n",
       "      <th>9</th>\n",
       "      <td>0.463093</td>\n",
       "      <td>0.156586</td>\n",
       "      <td>0.780303</td>\n",
       "      <td>0.954660</td>\n",
       "    </tr>\n",
       "  </tbody>\n",
       "</table>\n",
       "</div>"
      ],
      "text/plain": [
       "          0         1         2         3\n",
       "0 -0.008711  0.236538  0.607114 -0.809771\n",
       "1  1.046886  1.038953 -0.072102  0.118623\n",
       "2  0.126585 -0.209180  0.646523 -0.873557\n",
       "3  0.329325  0.083404  0.002216 -0.474928\n",
       "4 -0.760875  0.413010  1.764504 -0.489346\n",
       "5 -0.299937 -1.616146  2.015738 -1.351218\n",
       "6  0.620039 -0.815429 -1.363736  0.580807\n",
       "7 -0.377999  0.759438 -2.348193  1.042735\n",
       "8  0.036248 -0.416884 -1.051659 -1.817241\n",
       "9  0.463093  0.156586  0.780303  0.954660"
      ]
     },
     "execution_count": 44,
     "metadata": {},
     "output_type": "execute_result"
    }
   ],
   "source": [
    "df3"
   ]
  },
  {
   "cell_type": "code",
   "execution_count": 45,
   "metadata": {},
   "outputs": [
    {
     "data": {
      "text/plain": [
       "[          0         1         2         3\n",
       " 0 -0.008711  0.236538  0.607114 -0.809771\n",
       " 1  1.046886  1.038953 -0.072102  0.118623\n",
       " 2  0.126585 -0.209180  0.646523 -0.873557,\n",
       "           0         1         2         3\n",
       " 3  0.329325  0.083404  0.002216 -0.474928\n",
       " 4 -0.760875  0.413010  1.764504 -0.489346\n",
       " 5 -0.299937 -1.616146  2.015738 -1.351218\n",
       " 6  0.620039 -0.815429 -1.363736  0.580807,\n",
       "           0         1         2         3\n",
       " 7 -0.377999  0.759438 -2.348193  1.042735\n",
       " 8  0.036248 -0.416884 -1.051659 -1.817241\n",
       " 9  0.463093  0.156586  0.780303  0.954660]"
      ]
     },
     "execution_count": 45,
     "metadata": {},
     "output_type": "execute_result"
    }
   ],
   "source": [
    "#breaking into pieces\n",
    "df4 = [df3[:3],df3[3:7],df3[7:]]\n",
    "df4"
   ]
  },
  {
   "cell_type": "code",
   "execution_count": 46,
   "metadata": {},
   "outputs": [
    {
     "data": {
      "text/html": [
       "<div>\n",
       "<style scoped>\n",
       "    .dataframe tbody tr th:only-of-type {\n",
       "        vertical-align: middle;\n",
       "    }\n",
       "\n",
       "    .dataframe tbody tr th {\n",
       "        vertical-align: top;\n",
       "    }\n",
       "\n",
       "    .dataframe thead th {\n",
       "        text-align: right;\n",
       "    }\n",
       "</style>\n",
       "<table border=\"1\" class=\"dataframe\">\n",
       "  <thead>\n",
       "    <tr style=\"text-align: right;\">\n",
       "      <th></th>\n",
       "      <th>0</th>\n",
       "      <th>1</th>\n",
       "      <th>2</th>\n",
       "      <th>3</th>\n",
       "    </tr>\n",
       "  </thead>\n",
       "  <tbody>\n",
       "    <tr>\n",
       "      <th>0</th>\n",
       "      <td>-0.008711</td>\n",
       "      <td>0.236538</td>\n",
       "      <td>0.607114</td>\n",
       "      <td>-0.809771</td>\n",
       "    </tr>\n",
       "    <tr>\n",
       "      <th>1</th>\n",
       "      <td>1.046886</td>\n",
       "      <td>1.038953</td>\n",
       "      <td>-0.072102</td>\n",
       "      <td>0.118623</td>\n",
       "    </tr>\n",
       "    <tr>\n",
       "      <th>2</th>\n",
       "      <td>0.126585</td>\n",
       "      <td>-0.209180</td>\n",
       "      <td>0.646523</td>\n",
       "      <td>-0.873557</td>\n",
       "    </tr>\n",
       "    <tr>\n",
       "      <th>3</th>\n",
       "      <td>0.329325</td>\n",
       "      <td>0.083404</td>\n",
       "      <td>0.002216</td>\n",
       "      <td>-0.474928</td>\n",
       "    </tr>\n",
       "    <tr>\n",
       "      <th>4</th>\n",
       "      <td>-0.760875</td>\n",
       "      <td>0.413010</td>\n",
       "      <td>1.764504</td>\n",
       "      <td>-0.489346</td>\n",
       "    </tr>\n",
       "    <tr>\n",
       "      <th>5</th>\n",
       "      <td>-0.299937</td>\n",
       "      <td>-1.616146</td>\n",
       "      <td>2.015738</td>\n",
       "      <td>-1.351218</td>\n",
       "    </tr>\n",
       "    <tr>\n",
       "      <th>6</th>\n",
       "      <td>0.620039</td>\n",
       "      <td>-0.815429</td>\n",
       "      <td>-1.363736</td>\n",
       "      <td>0.580807</td>\n",
       "    </tr>\n",
       "    <tr>\n",
       "      <th>7</th>\n",
       "      <td>-0.377999</td>\n",
       "      <td>0.759438</td>\n",
       "      <td>-2.348193</td>\n",
       "      <td>1.042735</td>\n",
       "    </tr>\n",
       "    <tr>\n",
       "      <th>8</th>\n",
       "      <td>0.036248</td>\n",
       "      <td>-0.416884</td>\n",
       "      <td>-1.051659</td>\n",
       "      <td>-1.817241</td>\n",
       "    </tr>\n",
       "    <tr>\n",
       "      <th>9</th>\n",
       "      <td>0.463093</td>\n",
       "      <td>0.156586</td>\n",
       "      <td>0.780303</td>\n",
       "      <td>0.954660</td>\n",
       "    </tr>\n",
       "  </tbody>\n",
       "</table>\n",
       "</div>"
      ],
      "text/plain": [
       "          0         1         2         3\n",
       "0 -0.008711  0.236538  0.607114 -0.809771\n",
       "1  1.046886  1.038953 -0.072102  0.118623\n",
       "2  0.126585 -0.209180  0.646523 -0.873557\n",
       "3  0.329325  0.083404  0.002216 -0.474928\n",
       "4 -0.760875  0.413010  1.764504 -0.489346\n",
       "5 -0.299937 -1.616146  2.015738 -1.351218\n",
       "6  0.620039 -0.815429 -1.363736  0.580807\n",
       "7 -0.377999  0.759438 -2.348193  1.042735\n",
       "8  0.036248 -0.416884 -1.051659 -1.817241\n",
       "9  0.463093  0.156586  0.780303  0.954660"
      ]
     },
     "execution_count": 46,
     "metadata": {},
     "output_type": "execute_result"
    }
   ],
   "source": [
    "pd.concat(df4)"
   ]
  },
  {
   "cell_type": "markdown",
   "metadata": {},
   "source": [
    "LEFT/RIGHT JOIN using merge(just like sql join)\n"
   ]
  },
  {
   "cell_type": "code",
   "execution_count": 47,
   "metadata": {
    "tags": []
   },
   "outputs": [
    {
     "data": {
      "text/html": [
       "<div>\n",
       "<style scoped>\n",
       "    .dataframe tbody tr th:only-of-type {\n",
       "        vertical-align: middle;\n",
       "    }\n",
       "\n",
       "    .dataframe tbody tr th {\n",
       "        vertical-align: top;\n",
       "    }\n",
       "\n",
       "    .dataframe thead th {\n",
       "        text-align: right;\n",
       "    }\n",
       "</style>\n",
       "<table border=\"1\" class=\"dataframe\">\n",
       "  <thead>\n",
       "    <tr style=\"text-align: right;\">\n",
       "      <th></th>\n",
       "      <th>A</th>\n",
       "      <th>D</th>\n",
       "    </tr>\n",
       "  </thead>\n",
       "  <tbody>\n",
       "    <tr>\n",
       "      <th>0</th>\n",
       "      <td>1</td>\n",
       "      <td>7</td>\n",
       "    </tr>\n",
       "    <tr>\n",
       "      <th>1</th>\n",
       "      <td>2</td>\n",
       "      <td>8</td>\n",
       "    </tr>\n",
       "  </tbody>\n",
       "</table>\n",
       "</div>"
      ],
      "text/plain": [
       "   A  D\n",
       "0  1  7\n",
       "1  2  8"
      ]
     },
     "execution_count": 47,
     "metadata": {},
     "output_type": "execute_result"
    }
   ],
   "source": [
    "left = pd.DataFrame({'A':[1,2], 'B':[3,4]})\n",
    "right = pd.DataFrame({'A':[1,2], 'D':[7,8]})\n",
    "right"
   ]
  },
  {
   "cell_type": "code",
   "execution_count": 48,
   "metadata": {},
   "outputs": [
    {
     "data": {
      "text/html": [
       "<div>\n",
       "<style scoped>\n",
       "    .dataframe tbody tr th:only-of-type {\n",
       "        vertical-align: middle;\n",
       "    }\n",
       "\n",
       "    .dataframe tbody tr th {\n",
       "        vertical-align: top;\n",
       "    }\n",
       "\n",
       "    .dataframe thead th {\n",
       "        text-align: right;\n",
       "    }\n",
       "</style>\n",
       "<table border=\"1\" class=\"dataframe\">\n",
       "  <thead>\n",
       "    <tr style=\"text-align: right;\">\n",
       "      <th></th>\n",
       "      <th>A</th>\n",
       "      <th>B</th>\n",
       "    </tr>\n",
       "  </thead>\n",
       "  <tbody>\n",
       "    <tr>\n",
       "      <th>0</th>\n",
       "      <td>1</td>\n",
       "      <td>3</td>\n",
       "    </tr>\n",
       "    <tr>\n",
       "      <th>1</th>\n",
       "      <td>2</td>\n",
       "      <td>4</td>\n",
       "    </tr>\n",
       "  </tbody>\n",
       "</table>\n",
       "</div>"
      ],
      "text/plain": [
       "   A  B\n",
       "0  1  3\n",
       "1  2  4"
      ]
     },
     "execution_count": 48,
     "metadata": {},
     "output_type": "execute_result"
    }
   ],
   "source": [
    "left"
   ]
  },
  {
   "cell_type": "code",
   "execution_count": 49,
   "metadata": {},
   "outputs": [
    {
     "data": {
      "text/html": [
       "<div>\n",
       "<style scoped>\n",
       "    .dataframe tbody tr th:only-of-type {\n",
       "        vertical-align: middle;\n",
       "    }\n",
       "\n",
       "    .dataframe tbody tr th {\n",
       "        vertical-align: top;\n",
       "    }\n",
       "\n",
       "    .dataframe thead th {\n",
       "        text-align: right;\n",
       "    }\n",
       "</style>\n",
       "<table border=\"1\" class=\"dataframe\">\n",
       "  <thead>\n",
       "    <tr style=\"text-align: right;\">\n",
       "      <th></th>\n",
       "      <th>A</th>\n",
       "      <th>B</th>\n",
       "      <th>D</th>\n",
       "    </tr>\n",
       "  </thead>\n",
       "  <tbody>\n",
       "    <tr>\n",
       "      <th>0</th>\n",
       "      <td>1</td>\n",
       "      <td>3</td>\n",
       "      <td>7</td>\n",
       "    </tr>\n",
       "    <tr>\n",
       "      <th>1</th>\n",
       "      <td>2</td>\n",
       "      <td>4</td>\n",
       "      <td>8</td>\n",
       "    </tr>\n",
       "  </tbody>\n",
       "</table>\n",
       "</div>"
      ],
      "text/plain": [
       "   A  B  D\n",
       "0  1  3  7\n",
       "1  2  4  8"
      ]
     },
     "execution_count": 49,
     "metadata": {},
     "output_type": "execute_result"
    }
   ],
   "source": [
    "pd.merge(left,right,on='A')"
   ]
  },
  {
   "cell_type": "markdown",
   "metadata": {},
   "source": [
    "Grouping"
   ]
  },
  {
   "cell_type": "code",
   "execution_count": 50,
   "metadata": {},
   "outputs": [
    {
     "data": {
      "text/html": [
       "<div>\n",
       "<style scoped>\n",
       "    .dataframe tbody tr th:only-of-type {\n",
       "        vertical-align: middle;\n",
       "    }\n",
       "\n",
       "    .dataframe tbody tr th {\n",
       "        vertical-align: top;\n",
       "    }\n",
       "\n",
       "    .dataframe thead th {\n",
       "        text-align: right;\n",
       "    }\n",
       "</style>\n",
       "<table border=\"1\" class=\"dataframe\">\n",
       "  <thead>\n",
       "    <tr style=\"text-align: right;\">\n",
       "      <th></th>\n",
       "      <th>0</th>\n",
       "      <th>1</th>\n",
       "      <th>2</th>\n",
       "      <th>3</th>\n",
       "    </tr>\n",
       "  </thead>\n",
       "  <tbody>\n",
       "    <tr>\n",
       "      <th>0</th>\n",
       "      <td>-0.008711</td>\n",
       "      <td>0.236538</td>\n",
       "      <td>0.607114</td>\n",
       "      <td>-0.809771</td>\n",
       "    </tr>\n",
       "    <tr>\n",
       "      <th>1</th>\n",
       "      <td>1.046886</td>\n",
       "      <td>1.038953</td>\n",
       "      <td>-0.072102</td>\n",
       "      <td>0.118623</td>\n",
       "    </tr>\n",
       "    <tr>\n",
       "      <th>2</th>\n",
       "      <td>0.126585</td>\n",
       "      <td>-0.209180</td>\n",
       "      <td>0.646523</td>\n",
       "      <td>-0.873557</td>\n",
       "    </tr>\n",
       "    <tr>\n",
       "      <th>3</th>\n",
       "      <td>0.329325</td>\n",
       "      <td>0.083404</td>\n",
       "      <td>0.002216</td>\n",
       "      <td>-0.474928</td>\n",
       "    </tr>\n",
       "    <tr>\n",
       "      <th>4</th>\n",
       "      <td>-0.760875</td>\n",
       "      <td>0.413010</td>\n",
       "      <td>1.764504</td>\n",
       "      <td>-0.489346</td>\n",
       "    </tr>\n",
       "    <tr>\n",
       "      <th>5</th>\n",
       "      <td>-0.299937</td>\n",
       "      <td>-1.616146</td>\n",
       "      <td>2.015738</td>\n",
       "      <td>-1.351218</td>\n",
       "    </tr>\n",
       "    <tr>\n",
       "      <th>6</th>\n",
       "      <td>0.620039</td>\n",
       "      <td>-0.815429</td>\n",
       "      <td>-1.363736</td>\n",
       "      <td>0.580807</td>\n",
       "    </tr>\n",
       "    <tr>\n",
       "      <th>7</th>\n",
       "      <td>-0.377999</td>\n",
       "      <td>0.759438</td>\n",
       "      <td>-2.348193</td>\n",
       "      <td>1.042735</td>\n",
       "    </tr>\n",
       "    <tr>\n",
       "      <th>8</th>\n",
       "      <td>0.036248</td>\n",
       "      <td>-0.416884</td>\n",
       "      <td>-1.051659</td>\n",
       "      <td>-1.817241</td>\n",
       "    </tr>\n",
       "    <tr>\n",
       "      <th>9</th>\n",
       "      <td>0.463093</td>\n",
       "      <td>0.156586</td>\n",
       "      <td>0.780303</td>\n",
       "      <td>0.954660</td>\n",
       "    </tr>\n",
       "  </tbody>\n",
       "</table>\n",
       "</div>"
      ],
      "text/plain": [
       "          0         1         2         3\n",
       "0 -0.008711  0.236538  0.607114 -0.809771\n",
       "1  1.046886  1.038953 -0.072102  0.118623\n",
       "2  0.126585 -0.209180  0.646523 -0.873557\n",
       "3  0.329325  0.083404  0.002216 -0.474928\n",
       "4 -0.760875  0.413010  1.764504 -0.489346\n",
       "5 -0.299937 -1.616146  2.015738 -1.351218\n",
       "6  0.620039 -0.815429 -1.363736  0.580807\n",
       "7 -0.377999  0.759438 -2.348193  1.042735\n",
       "8  0.036248 -0.416884 -1.051659 -1.817241\n",
       "9  0.463093  0.156586  0.780303  0.954660"
      ]
     },
     "execution_count": 50,
     "metadata": {},
     "output_type": "execute_result"
    }
   ],
   "source": [
    "df3"
   ]
  },
  {
   "cell_type": "code",
   "execution_count": 51,
   "metadata": {},
   "outputs": [
    {
     "data": {
      "text/html": [
       "<div>\n",
       "<style scoped>\n",
       "    .dataframe tbody tr th:only-of-type {\n",
       "        vertical-align: middle;\n",
       "    }\n",
       "\n",
       "    .dataframe tbody tr th {\n",
       "        vertical-align: top;\n",
       "    }\n",
       "\n",
       "    .dataframe thead th {\n",
       "        text-align: right;\n",
       "    }\n",
       "</style>\n",
       "<table border=\"1\" class=\"dataframe\">\n",
       "  <thead>\n",
       "    <tr style=\"text-align: right;\">\n",
       "      <th></th>\n",
       "      <th></th>\n",
       "      <th>1</th>\n",
       "      <th>3</th>\n",
       "    </tr>\n",
       "    <tr>\n",
       "      <th>0</th>\n",
       "      <th>2</th>\n",
       "      <th></th>\n",
       "      <th></th>\n",
       "    </tr>\n",
       "  </thead>\n",
       "  <tbody>\n",
       "    <tr>\n",
       "      <th>-0.760875</th>\n",
       "      <th>1.764504</th>\n",
       "      <td>0.413010</td>\n",
       "      <td>-0.489346</td>\n",
       "    </tr>\n",
       "    <tr>\n",
       "      <th>-0.377999</th>\n",
       "      <th>-2.348193</th>\n",
       "      <td>0.759438</td>\n",
       "      <td>1.042735</td>\n",
       "    </tr>\n",
       "    <tr>\n",
       "      <th>-0.299937</th>\n",
       "      <th>2.015738</th>\n",
       "      <td>-1.616146</td>\n",
       "      <td>-1.351218</td>\n",
       "    </tr>\n",
       "    <tr>\n",
       "      <th>-0.008711</th>\n",
       "      <th>0.607114</th>\n",
       "      <td>0.236538</td>\n",
       "      <td>-0.809771</td>\n",
       "    </tr>\n",
       "    <tr>\n",
       "      <th>0.036248</th>\n",
       "      <th>-1.051659</th>\n",
       "      <td>-0.416884</td>\n",
       "      <td>-1.817241</td>\n",
       "    </tr>\n",
       "    <tr>\n",
       "      <th>0.126585</th>\n",
       "      <th>0.646523</th>\n",
       "      <td>-0.209180</td>\n",
       "      <td>-0.873557</td>\n",
       "    </tr>\n",
       "    <tr>\n",
       "      <th>0.329325</th>\n",
       "      <th>0.002216</th>\n",
       "      <td>0.083404</td>\n",
       "      <td>-0.474928</td>\n",
       "    </tr>\n",
       "    <tr>\n",
       "      <th>0.463093</th>\n",
       "      <th>0.780303</th>\n",
       "      <td>0.156586</td>\n",
       "      <td>0.954660</td>\n",
       "    </tr>\n",
       "    <tr>\n",
       "      <th>0.620039</th>\n",
       "      <th>-1.363736</th>\n",
       "      <td>-0.815429</td>\n",
       "      <td>0.580807</td>\n",
       "    </tr>\n",
       "    <tr>\n",
       "      <th>1.046886</th>\n",
       "      <th>-0.072102</th>\n",
       "      <td>1.038953</td>\n",
       "      <td>0.118623</td>\n",
       "    </tr>\n",
       "  </tbody>\n",
       "</table>\n",
       "</div>"
      ],
      "text/plain": [
       "                            1         3\n",
       "0         2                            \n",
       "-0.760875  1.764504  0.413010 -0.489346\n",
       "-0.377999 -2.348193  0.759438  1.042735\n",
       "-0.299937  2.015738 -1.616146 -1.351218\n",
       "-0.008711  0.607114  0.236538 -0.809771\n",
       " 0.036248 -1.051659 -0.416884 -1.817241\n",
       " 0.126585  0.646523 -0.209180 -0.873557\n",
       " 0.329325  0.002216  0.083404 -0.474928\n",
       " 0.463093  0.780303  0.156586  0.954660\n",
       " 0.620039 -1.363736 -0.815429  0.580807\n",
       " 1.046886 -0.072102  1.038953  0.118623"
      ]
     },
     "execution_count": 51,
     "metadata": {},
     "output_type": "execute_result"
    }
   ],
   "source": [
    "df3.groupby([0,2]).sum()"
   ]
  },
  {
   "cell_type": "markdown",
   "metadata": {},
   "source": [
    "Reshaping[Stacks/Pivot table]"
   ]
  },
  {
   "cell_type": "markdown",
   "metadata": {},
   "source": [
    "Stack"
   ]
  },
  {
   "cell_type": "code",
   "execution_count": 52,
   "metadata": {},
   "outputs": [],
   "source": [
    "our_tuple = list(zip(*[[1,2,3,4,5,6,7,8],[11,12,13,14,15,16,17,18]]))\n",
    "index1 = pd.MultiIndex.from_tuples(our_tuple, names=['1st','2nd'])"
   ]
  },
  {
   "cell_type": "code",
   "execution_count": 53,
   "metadata": {},
   "outputs": [
    {
     "data": {
      "text/html": [
       "<div>\n",
       "<style scoped>\n",
       "    .dataframe tbody tr th:only-of-type {\n",
       "        vertical-align: middle;\n",
       "    }\n",
       "\n",
       "    .dataframe tbody tr th {\n",
       "        vertical-align: top;\n",
       "    }\n",
       "\n",
       "    .dataframe thead th {\n",
       "        text-align: right;\n",
       "    }\n",
       "</style>\n",
       "<table border=\"1\" class=\"dataframe\">\n",
       "  <thead>\n",
       "    <tr style=\"text-align: right;\">\n",
       "      <th></th>\n",
       "      <th></th>\n",
       "      <th>A</th>\n",
       "      <th>B</th>\n",
       "    </tr>\n",
       "    <tr>\n",
       "      <th>1st</th>\n",
       "      <th>2nd</th>\n",
       "      <th></th>\n",
       "      <th></th>\n",
       "    </tr>\n",
       "  </thead>\n",
       "  <tbody>\n",
       "    <tr>\n",
       "      <th>1</th>\n",
       "      <th>11</th>\n",
       "      <td>0.409750</td>\n",
       "      <td>0.131846</td>\n",
       "    </tr>\n",
       "    <tr>\n",
       "      <th>2</th>\n",
       "      <th>12</th>\n",
       "      <td>-0.129543</td>\n",
       "      <td>0.584840</td>\n",
       "    </tr>\n",
       "    <tr>\n",
       "      <th>3</th>\n",
       "      <th>13</th>\n",
       "      <td>1.668073</td>\n",
       "      <td>-0.121965</td>\n",
       "    </tr>\n",
       "    <tr>\n",
       "      <th>4</th>\n",
       "      <th>14</th>\n",
       "      <td>-1.076320</td>\n",
       "      <td>0.397300</td>\n",
       "    </tr>\n",
       "    <tr>\n",
       "      <th>5</th>\n",
       "      <th>15</th>\n",
       "      <td>-0.202931</td>\n",
       "      <td>0.315817</td>\n",
       "    </tr>\n",
       "    <tr>\n",
       "      <th>6</th>\n",
       "      <th>16</th>\n",
       "      <td>0.732176</td>\n",
       "      <td>-0.035637</td>\n",
       "    </tr>\n",
       "    <tr>\n",
       "      <th>7</th>\n",
       "      <th>17</th>\n",
       "      <td>-1.586896</td>\n",
       "      <td>-1.350995</td>\n",
       "    </tr>\n",
       "    <tr>\n",
       "      <th>8</th>\n",
       "      <th>18</th>\n",
       "      <td>0.239780</td>\n",
       "      <td>2.100711</td>\n",
       "    </tr>\n",
       "  </tbody>\n",
       "</table>\n",
       "</div>"
      ],
      "text/plain": [
       "                A         B\n",
       "1st 2nd                    \n",
       "1   11   0.409750  0.131846\n",
       "2   12  -0.129543  0.584840\n",
       "3   13   1.668073 -0.121965\n",
       "4   14  -1.076320  0.397300\n",
       "5   15  -0.202931  0.315817\n",
       "6   16   0.732176 -0.035637\n",
       "7   17  -1.586896 -1.350995\n",
       "8   18   0.239780  2.100711"
      ]
     },
     "execution_count": 53,
     "metadata": {},
     "output_type": "execute_result"
    }
   ],
   "source": [
    "df5 = pd.DataFrame(np.random.randn(8,2), index = index1, columns = ['A','B'])\n",
    "df5"
   ]
  },
  {
   "cell_type": "code",
   "execution_count": 54,
   "metadata": {},
   "outputs": [
    {
     "data": {
      "text/plain": [
       "1st  2nd   \n",
       "1    11   A    0.409750\n",
       "          B    0.131846\n",
       "2    12   A   -0.129543\n",
       "          B    0.584840\n",
       "3    13   A    1.668073\n",
       "          B   -0.121965\n",
       "4    14   A   -1.076320\n",
       "          B    0.397300\n",
       "5    15   A   -0.202931\n",
       "          B    0.315817\n",
       "6    16   A    0.732176\n",
       "          B   -0.035637\n",
       "7    17   A   -1.586896\n",
       "          B   -1.350995\n",
       "8    18   A    0.239780\n",
       "          B    2.100711\n",
       "dtype: float64"
      ]
     },
     "execution_count": 54,
     "metadata": {},
     "output_type": "execute_result"
    }
   ],
   "source": [
    "df6 = df5.stack()\n",
    "df6"
   ]
  },
  {
   "cell_type": "code",
   "execution_count": 55,
   "metadata": {},
   "outputs": [
    {
     "data": {
      "text/html": [
       "<div>\n",
       "<style scoped>\n",
       "    .dataframe tbody tr th:only-of-type {\n",
       "        vertical-align: middle;\n",
       "    }\n",
       "\n",
       "    .dataframe tbody tr th {\n",
       "        vertical-align: top;\n",
       "    }\n",
       "\n",
       "    .dataframe thead th {\n",
       "        text-align: right;\n",
       "    }\n",
       "</style>\n",
       "<table border=\"1\" class=\"dataframe\">\n",
       "  <thead>\n",
       "    <tr style=\"text-align: right;\">\n",
       "      <th></th>\n",
       "      <th></th>\n",
       "      <th>A</th>\n",
       "      <th>B</th>\n",
       "    </tr>\n",
       "    <tr>\n",
       "      <th>1st</th>\n",
       "      <th>2nd</th>\n",
       "      <th></th>\n",
       "      <th></th>\n",
       "    </tr>\n",
       "  </thead>\n",
       "  <tbody>\n",
       "    <tr>\n",
       "      <th>1</th>\n",
       "      <th>11</th>\n",
       "      <td>0.409750</td>\n",
       "      <td>0.131846</td>\n",
       "    </tr>\n",
       "    <tr>\n",
       "      <th>2</th>\n",
       "      <th>12</th>\n",
       "      <td>-0.129543</td>\n",
       "      <td>0.584840</td>\n",
       "    </tr>\n",
       "    <tr>\n",
       "      <th>3</th>\n",
       "      <th>13</th>\n",
       "      <td>1.668073</td>\n",
       "      <td>-0.121965</td>\n",
       "    </tr>\n",
       "    <tr>\n",
       "      <th>4</th>\n",
       "      <th>14</th>\n",
       "      <td>-1.076320</td>\n",
       "      <td>0.397300</td>\n",
       "    </tr>\n",
       "    <tr>\n",
       "      <th>5</th>\n",
       "      <th>15</th>\n",
       "      <td>-0.202931</td>\n",
       "      <td>0.315817</td>\n",
       "    </tr>\n",
       "    <tr>\n",
       "      <th>6</th>\n",
       "      <th>16</th>\n",
       "      <td>0.732176</td>\n",
       "      <td>-0.035637</td>\n",
       "    </tr>\n",
       "    <tr>\n",
       "      <th>7</th>\n",
       "      <th>17</th>\n",
       "      <td>-1.586896</td>\n",
       "      <td>-1.350995</td>\n",
       "    </tr>\n",
       "    <tr>\n",
       "      <th>8</th>\n",
       "      <th>18</th>\n",
       "      <td>0.239780</td>\n",
       "      <td>2.100711</td>\n",
       "    </tr>\n",
       "  </tbody>\n",
       "</table>\n",
       "</div>"
      ],
      "text/plain": [
       "                A         B\n",
       "1st 2nd                    \n",
       "1   11   0.409750  0.131846\n",
       "2   12  -0.129543  0.584840\n",
       "3   13   1.668073 -0.121965\n",
       "4   14  -1.076320  0.397300\n",
       "5   15  -0.202931  0.315817\n",
       "6   16   0.732176 -0.035637\n",
       "7   17  -1.586896 -1.350995\n",
       "8   18   0.239780  2.100711"
      ]
     },
     "execution_count": 55,
     "metadata": {},
     "output_type": "execute_result"
    }
   ],
   "source": [
    "df6.unstack()"
   ]
  },
  {
   "cell_type": "markdown",
   "metadata": {},
   "source": [
    "Pivot Table"
   ]
  },
  {
   "cell_type": "code",
   "execution_count": 56,
   "metadata": {},
   "outputs": [
    {
     "data": {
      "text/html": [
       "<div>\n",
       "<style scoped>\n",
       "    .dataframe tbody tr th:only-of-type {\n",
       "        vertical-align: middle;\n",
       "    }\n",
       "\n",
       "    .dataframe tbody tr th {\n",
       "        vertical-align: top;\n",
       "    }\n",
       "\n",
       "    .dataframe thead th {\n",
       "        text-align: right;\n",
       "    }\n",
       "</style>\n",
       "<table border=\"1\" class=\"dataframe\">\n",
       "  <thead>\n",
       "    <tr style=\"text-align: right;\">\n",
       "      <th></th>\n",
       "      <th>A</th>\n",
       "      <th>B</th>\n",
       "      <th>C</th>\n",
       "      <th>D</th>\n",
       "    </tr>\n",
       "  </thead>\n",
       "  <tbody>\n",
       "    <tr>\n",
       "      <th>0</th>\n",
       "      <td>a</td>\n",
       "      <td>x</td>\n",
       "      <td>1</td>\n",
       "      <td>-1.694093</td>\n",
       "    </tr>\n",
       "    <tr>\n",
       "      <th>1</th>\n",
       "      <td>b</td>\n",
       "      <td>y</td>\n",
       "      <td>2</td>\n",
       "      <td>-1.154501</td>\n",
       "    </tr>\n",
       "    <tr>\n",
       "      <th>2</th>\n",
       "      <td>c</td>\n",
       "      <td>x</td>\n",
       "      <td>3</td>\n",
       "      <td>-1.064515</td>\n",
       "    </tr>\n",
       "    <tr>\n",
       "      <th>3</th>\n",
       "      <td>d</td>\n",
       "      <td>y</td>\n",
       "      <td>4</td>\n",
       "      <td>-0.321953</td>\n",
       "    </tr>\n",
       "    <tr>\n",
       "      <th>4</th>\n",
       "      <td>a</td>\n",
       "      <td>x</td>\n",
       "      <td>1</td>\n",
       "      <td>-0.356492</td>\n",
       "    </tr>\n",
       "    <tr>\n",
       "      <th>5</th>\n",
       "      <td>b</td>\n",
       "      <td>y</td>\n",
       "      <td>2</td>\n",
       "      <td>1.747368</td>\n",
       "    </tr>\n",
       "    <tr>\n",
       "      <th>6</th>\n",
       "      <td>c</td>\n",
       "      <td>x</td>\n",
       "      <td>3</td>\n",
       "      <td>0.046854</td>\n",
       "    </tr>\n",
       "    <tr>\n",
       "      <th>7</th>\n",
       "      <td>d</td>\n",
       "      <td>y</td>\n",
       "      <td>4</td>\n",
       "      <td>-0.338526</td>\n",
       "    </tr>\n",
       "  </tbody>\n",
       "</table>\n",
       "</div>"
      ],
      "text/plain": [
       "   A  B  C         D\n",
       "0  a  x  1 -1.694093\n",
       "1  b  y  2 -1.154501\n",
       "2  c  x  3 -1.064515\n",
       "3  d  y  4 -0.321953\n",
       "4  a  x  1 -0.356492\n",
       "5  b  y  2  1.747368\n",
       "6  c  x  3  0.046854\n",
       "7  d  y  4 -0.338526"
      ]
     },
     "execution_count": 56,
     "metadata": {},
     "output_type": "execute_result"
    }
   ],
   "source": [
    "df7 = pd.DataFrame({'A':['a','b','c','d']*2,\n",
    "                    'B':['x','y']*4,\n",
    "                    'C':[1,2,3,4]*2,\n",
    "                    'D':np.random.randn(8)})\n",
    "df7"
   ]
  },
  {
   "cell_type": "code",
   "execution_count": 57,
   "metadata": {},
   "outputs": [
    {
     "data": {
      "text/html": [
       "<div>\n",
       "<style scoped>\n",
       "    .dataframe tbody tr th:only-of-type {\n",
       "        vertical-align: middle;\n",
       "    }\n",
       "\n",
       "    .dataframe tbody tr th {\n",
       "        vertical-align: top;\n",
       "    }\n",
       "\n",
       "    .dataframe thead th {\n",
       "        text-align: right;\n",
       "    }\n",
       "</style>\n",
       "<table border=\"1\" class=\"dataframe\">\n",
       "  <thead>\n",
       "    <tr style=\"text-align: right;\">\n",
       "      <th></th>\n",
       "      <th>C</th>\n",
       "      <th>1</th>\n",
       "      <th>2</th>\n",
       "      <th>3</th>\n",
       "      <th>4</th>\n",
       "    </tr>\n",
       "    <tr>\n",
       "      <th>A</th>\n",
       "      <th>B</th>\n",
       "      <th></th>\n",
       "      <th></th>\n",
       "      <th></th>\n",
       "      <th></th>\n",
       "    </tr>\n",
       "  </thead>\n",
       "  <tbody>\n",
       "    <tr>\n",
       "      <th>a</th>\n",
       "      <th>x</th>\n",
       "      <td>-1.025293</td>\n",
       "      <td>NaN</td>\n",
       "      <td>NaN</td>\n",
       "      <td>NaN</td>\n",
       "    </tr>\n",
       "    <tr>\n",
       "      <th>b</th>\n",
       "      <th>y</th>\n",
       "      <td>NaN</td>\n",
       "      <td>0.296434</td>\n",
       "      <td>NaN</td>\n",
       "      <td>NaN</td>\n",
       "    </tr>\n",
       "    <tr>\n",
       "      <th>c</th>\n",
       "      <th>x</th>\n",
       "      <td>NaN</td>\n",
       "      <td>NaN</td>\n",
       "      <td>-0.50883</td>\n",
       "      <td>NaN</td>\n",
       "    </tr>\n",
       "    <tr>\n",
       "      <th>d</th>\n",
       "      <th>y</th>\n",
       "      <td>NaN</td>\n",
       "      <td>NaN</td>\n",
       "      <td>NaN</td>\n",
       "      <td>-0.330239</td>\n",
       "    </tr>\n",
       "  </tbody>\n",
       "</table>\n",
       "</div>"
      ],
      "text/plain": [
       "C           1         2        3         4\n",
       "A B                                       \n",
       "a x -1.025293       NaN      NaN       NaN\n",
       "b y       NaN  0.296434      NaN       NaN\n",
       "c x       NaN       NaN -0.50883       NaN\n",
       "d y       NaN       NaN      NaN -0.330239"
      ]
     },
     "execution_count": 57,
     "metadata": {},
     "output_type": "execute_result"
    }
   ],
   "source": [
    "pd.pivot_table(df7, values='D', index=['A','B'], columns=['C'])"
   ]
  },
  {
   "cell_type": "markdown",
   "metadata": {},
   "source": [
    "TIME SERIES AND CATEGORICALS"
   ]
  },
  {
   "cell_type": "code",
   "execution_count": 58,
   "metadata": {},
   "outputs": [
    {
     "data": {
      "text/plain": [
       "2020-02-29    281\n",
       "2020-03-31    286\n",
       "2020-04-30    484\n",
       "2020-05-31    260\n",
       "2020-06-30     92\n",
       "             ... \n",
       "2028-01-31    375\n",
       "2028-02-29     34\n",
       "2028-03-31    132\n",
       "2028-04-30    473\n",
       "2028-05-31    406\n",
       "Freq: M, Length: 100, dtype: int32"
      ]
     },
     "execution_count": 58,
     "metadata": {},
     "output_type": "execute_result"
    }
   ],
   "source": [
    "dates = pd.date_range('20200202',periods=100, freq='M')\n",
    "ts = pd.Series(np.random.randint(0,500,len(dates)),dates)\n",
    "ts"
   ]
  },
  {
   "cell_type": "code",
   "execution_count": 59,
   "metadata": {},
   "outputs": [
    {
     "data": {
      "text/plain": [
       "2020-02-29 00:00:00    281\n",
       "2020-02-29 00:05:00      0\n",
       "2020-02-29 00:10:00      0\n",
       "2020-02-29 00:15:00      0\n",
       "2020-02-29 00:20:00      0\n",
       "                      ... \n",
       "2028-05-30 23:40:00      0\n",
       "2028-05-30 23:45:00      0\n",
       "2028-05-30 23:50:00      0\n",
       "2028-05-30 23:55:00      0\n",
       "2028-05-31 00:00:00    406\n",
       "Freq: 5T, Length: 868033, dtype: int32"
      ]
     },
     "execution_count": 59,
     "metadata": {},
     "output_type": "execute_result"
    }
   ],
   "source": [
    "ts.resample('5min').sum()"
   ]
  },
  {
   "cell_type": "code",
   "execution_count": 60,
   "metadata": {},
   "outputs": [
    {
     "data": {
      "text/plain": [
       "DatetimeIndex(['2020-03-04 00:00:00', '2020-03-04 00:00:01',\n",
       "               '2020-03-04 00:00:02', '2020-03-04 00:00:03',\n",
       "               '2020-03-04 00:00:04'],\n",
       "              dtype='datetime64[ns]', freq='S')"
      ]
     },
     "execution_count": 60,
     "metadata": {},
     "output_type": "execute_result"
    }
   ],
   "source": [
    "dates1 = pd.date_range('20200304', periods= 5, freq='S')\n",
    "dates1"
   ]
  },
  {
   "cell_type": "code",
   "execution_count": 61,
   "metadata": {},
   "outputs": [
    {
     "data": {
      "text/plain": [
       "2020-03-04 00:00:00   -1.304359\n",
       "2020-03-04 00:00:01   -0.932663\n",
       "2020-03-04 00:00:02    0.775316\n",
       "2020-03-04 00:00:03   -1.026646\n",
       "2020-03-04 00:00:04   -0.920918\n",
       "Freq: S, dtype: float64"
      ]
     },
     "execution_count": 61,
     "metadata": {},
     "output_type": "execute_result"
    }
   ],
   "source": [
    "ts1 = pd.Series(np.random.randn(len(dates1)),dates1)\n",
    "ts1"
   ]
  },
  {
   "cell_type": "code",
   "execution_count": 62,
   "metadata": {},
   "outputs": [
    {
     "data": {
      "text/plain": [
       "2020-03-04 00:00:00+00:00   -1.304359\n",
       "2020-03-04 00:00:01+00:00   -0.932663\n",
       "2020-03-04 00:00:02+00:00    0.775316\n",
       "2020-03-04 00:00:03+00:00   -1.026646\n",
       "2020-03-04 00:00:04+00:00   -0.920918\n",
       "Freq: S, dtype: float64"
      ]
     },
     "execution_count": 62,
     "metadata": {},
     "output_type": "execute_result"
    }
   ],
   "source": [
    "ts1_utc = ts1.tz_localize('UTC')\n",
    "ts1_utc"
   ]
  },
  {
   "cell_type": "code",
   "execution_count": 63,
   "metadata": {},
   "outputs": [
    {
     "data": {
      "text/plain": [
       "2020-03-03 19:00:00-05:00   -1.304359\n",
       "2020-03-03 19:00:01-05:00   -0.932663\n",
       "2020-03-03 19:00:02-05:00    0.775316\n",
       "2020-03-03 19:00:03-05:00   -1.026646\n",
       "2020-03-03 19:00:04-05:00   -0.920918\n",
       "Freq: S, dtype: float64"
      ]
     },
     "execution_count": 63,
     "metadata": {},
     "output_type": "execute_result"
    }
   ],
   "source": [
    "ts1_utc.tz_convert('US/Eastern')"
   ]
  },
  {
   "cell_type": "code",
   "execution_count": 64,
   "metadata": {},
   "outputs": [
    {
     "data": {
      "text/plain": [
       "DatetimeIndex(['2020-03-31', '2020-04-30', '2020-05-31', '2020-06-30',\n",
       "               '2020-07-31'],\n",
       "              dtype='datetime64[ns]', freq='M')"
      ]
     },
     "execution_count": 64,
     "metadata": {},
     "output_type": "execute_result"
    }
   ],
   "source": [
    "dates2 = pd.date_range('20200304', periods= 5, freq='M')\n",
    "dates2"
   ]
  },
  {
   "cell_type": "code",
   "execution_count": 65,
   "metadata": {},
   "outputs": [
    {
     "data": {
      "text/plain": [
       "2020-03-31   -0.054860\n",
       "2020-04-30    0.132140\n",
       "2020-05-31   -0.653731\n",
       "2020-06-30   -1.750460\n",
       "2020-07-31    1.232435\n",
       "Freq: M, dtype: float64"
      ]
     },
     "execution_count": 65,
     "metadata": {},
     "output_type": "execute_result"
    }
   ],
   "source": [
    "ts2 = pd.Series(np.random.randn(len(dates2)),dates2)\n",
    "ts2"
   ]
  },
  {
   "cell_type": "code",
   "execution_count": 66,
   "metadata": {},
   "outputs": [
    {
     "data": {
      "text/plain": [
       "2020-03   -0.054860\n",
       "2020-04    0.132140\n",
       "2020-05   -0.653731\n",
       "2020-06   -1.750460\n",
       "2020-07    1.232435\n",
       "Freq: M, dtype: float64"
      ]
     },
     "execution_count": 66,
     "metadata": {},
     "output_type": "execute_result"
    }
   ],
   "source": [
    "ps = ts2.to_period()\n",
    "ps"
   ]
  },
  {
   "cell_type": "code",
   "execution_count": 67,
   "metadata": {},
   "outputs": [
    {
     "data": {
      "text/plain": [
       "2020-03-01   -0.054860\n",
       "2020-04-01    0.132140\n",
       "2020-05-01   -0.653731\n",
       "2020-06-01   -1.750460\n",
       "2020-07-01    1.232435\n",
       "Freq: MS, dtype: float64"
      ]
     },
     "execution_count": 67,
     "metadata": {},
     "output_type": "execute_result"
    }
   ],
   "source": [
    "ps.to_timestamp()"
   ]
  },
  {
   "cell_type": "markdown",
   "metadata": {},
   "source": [
    "Categoricals"
   ]
  },
  {
   "cell_type": "code",
   "execution_count": 68,
   "metadata": {},
   "outputs": [
    {
     "data": {
      "text/html": [
       "<div>\n",
       "<style scoped>\n",
       "    .dataframe tbody tr th:only-of-type {\n",
       "        vertical-align: middle;\n",
       "    }\n",
       "\n",
       "    .dataframe tbody tr th {\n",
       "        vertical-align: top;\n",
       "    }\n",
       "\n",
       "    .dataframe thead th {\n",
       "        text-align: right;\n",
       "    }\n",
       "</style>\n",
       "<table border=\"1\" class=\"dataframe\">\n",
       "  <thead>\n",
       "    <tr style=\"text-align: right;\">\n",
       "      <th></th>\n",
       "      <th>id</th>\n",
       "      <th>grade</th>\n",
       "    </tr>\n",
       "  </thead>\n",
       "  <tbody>\n",
       "    <tr>\n",
       "      <th>0</th>\n",
       "      <td>1</td>\n",
       "      <td>a</td>\n",
       "    </tr>\n",
       "    <tr>\n",
       "      <th>1</th>\n",
       "      <td>2</td>\n",
       "      <td>b</td>\n",
       "    </tr>\n",
       "    <tr>\n",
       "      <th>2</th>\n",
       "      <td>3</td>\n",
       "      <td>c</td>\n",
       "    </tr>\n",
       "    <tr>\n",
       "      <th>3</th>\n",
       "      <td>4</td>\n",
       "      <td>a</td>\n",
       "    </tr>\n",
       "    <tr>\n",
       "      <th>4</th>\n",
       "      <td>5</td>\n",
       "      <td>e</td>\n",
       "    </tr>\n",
       "  </tbody>\n",
       "</table>\n",
       "</div>"
      ],
      "text/plain": [
       "   id grade\n",
       "0   1     a\n",
       "1   2     b\n",
       "2   3     c\n",
       "3   4     a\n",
       "4   5     e"
      ]
     },
     "execution_count": 68,
     "metadata": {},
     "output_type": "execute_result"
    }
   ],
   "source": [
    "df8 = pd.DataFrame({'id': [1,2,3,4,5],\n",
    "                    'grade': ['a','b','c','a','e']})\n",
    "df8"
   ]
  },
  {
   "cell_type": "code",
   "execution_count": 69,
   "metadata": {},
   "outputs": [],
   "source": [
    "df8['Grade'] = df8['grade'].astype(\"category\")"
   ]
  },
  {
   "cell_type": "code",
   "execution_count": 70,
   "metadata": {},
   "outputs": [
    {
     "data": {
      "text/plain": [
       "0    a\n",
       "1    b\n",
       "2    c\n",
       "3    a\n",
       "4    e\n",
       "Name: Grade, dtype: category\n",
       "Categories (4, object): ['a', 'b', 'c', 'e']"
      ]
     },
     "execution_count": 70,
     "metadata": {},
     "output_type": "execute_result"
    }
   ],
   "source": [
    "df8['Grade']"
   ]
  },
  {
   "cell_type": "code",
   "execution_count": 71,
   "metadata": {},
   "outputs": [],
   "source": [
    "df8['Grade'].cat.categories = ['excellent','vgood','good','bad']"
   ]
  },
  {
   "cell_type": "code",
   "execution_count": 72,
   "metadata": {},
   "outputs": [
    {
     "data": {
      "text/plain": [
       "0    excellent\n",
       "1        vgood\n",
       "2         good\n",
       "3    excellent\n",
       "4          bad\n",
       "Name: Grade, dtype: category\n",
       "Categories (4, object): ['excellent', 'vgood', 'good', 'bad']"
      ]
     },
     "execution_count": 72,
     "metadata": {},
     "output_type": "execute_result"
    }
   ],
   "source": [
    "df8['Grade']"
   ]
  },
  {
   "cell_type": "code",
   "execution_count": 73,
   "metadata": {},
   "outputs": [],
   "source": [
    "import matplotlib.pyplot as plt"
   ]
  },
  {
   "cell_type": "code",
   "execution_count": 74,
   "metadata": {},
   "outputs": [],
   "source": [
    "plt.close('all')"
   ]
  },
  {
   "cell_type": "code",
   "execution_count": 75,
   "metadata": {},
   "outputs": [],
   "source": [
    "ts3 = pd.Series(np.random.randn(500), index= pd.date_range('1/2/2020', periods = 500))"
   ]
  },
  {
   "cell_type": "code",
   "execution_count": 76,
   "metadata": {},
   "outputs": [],
   "source": [
    "ts3 = ts3.cumsum()"
   ]
  },
  {
   "cell_type": "code",
   "execution_count": 77,
   "metadata": {},
   "outputs": [
    {
     "data": {
      "text/plain": [
       "<matplotlib.axes._subplots.AxesSubplot at 0x2a1e9e7cb80>"
      ]
     },
     "execution_count": 77,
     "metadata": {},
     "output_type": "execute_result"
    },
    {
     "data": {
      "image/png": "[encoded data removed]",
      "text/plain": [
       "<Figure size 432x288 with 1 Axes>"
      ]
     },
     "metadata": {
      "needs_background": "light"
     },
     "output_type": "display_data"
    }
   ],
   "source": [
    "ts3.plot()"
   ]
  },
  {
   "cell_type": "code",
   "execution_count": 78,
   "metadata": {},
   "outputs": [
    {
     "data": {
      "text/plain": [
       "2020-01-02    -1.358221\n",
       "2020-01-03    -2.602195\n",
       "2020-01-04    -2.259793\n",
       "2020-01-05    -2.368076\n",
       "2020-01-06    -0.390634\n",
       "                ...    \n",
       "2021-05-11    24.952315\n",
       "2021-05-12    23.776349\n",
       "2021-05-13    23.572287\n",
       "2021-05-14    23.216720\n",
       "2021-05-15    23.712744\n",
       "Freq: D, Length: 500, dtype: float64"
      ]
     },
     "execution_count": 78,
     "metadata": {},
     "output_type": "execute_result"
    }
   ],
   "source": [
    "ts3"
   ]
  },
  {
   "cell_type": "code",
   "execution_count": 79,
   "metadata": {},
   "outputs": [],
   "source": [
    "ts3.to_csv('ts3.csv')"
   ]
  },
  {
   "cell_type": "code",
   "execution_count": 80,
   "metadata": {},
   "outputs": [
    {
     "data": {
      "text/html": [
       "<div>\n",
       "<style scoped>\n",
       "    .dataframe tbody tr th:only-of-type {\n",
       "        vertical-align: middle;\n",
       "    }\n",
       "\n",
       "    .dataframe tbody tr th {\n",
       "        vertical-align: top;\n",
       "    }\n",
       "\n",
       "    .dataframe thead th {\n",
       "        text-align: right;\n",
       "    }\n",
       "</style>\n",
       "<table border=\"1\" class=\"dataframe\">\n",
       "  <thead>\n",
       "    <tr style=\"text-align: right;\">\n",
       "      <th></th>\n",
       "      <th>Unnamed: 0</th>\n",
       "      <th>0</th>\n",
       "    </tr>\n",
       "  </thead>\n",
       "  <tbody>\n",
       "    <tr>\n",
       "      <th>0</th>\n",
       "      <td>2020-01-02</td>\n",
       "      <td>-1.358221</td>\n",
       "    </tr>\n",
       "    <tr>\n",
       "      <th>1</th>\n",
       "      <td>2020-01-03</td>\n",
       "      <td>-2.602195</td>\n",
       "    </tr>\n",
       "    <tr>\n",
       "      <th>2</th>\n",
       "      <td>2020-01-04</td>\n",
       "      <td>-2.259793</td>\n",
       "    </tr>\n",
       "    <tr>\n",
       "      <th>3</th>\n",
       "      <td>2020-01-05</td>\n",
       "      <td>-2.368076</td>\n",
       "    </tr>\n",
       "    <tr>\n",
       "      <th>4</th>\n",
       "      <td>2020-01-06</td>\n",
       "      <td>-0.390634</td>\n",
       "    </tr>\n",
       "    <tr>\n",
       "      <th>...</th>\n",
       "      <td>...</td>\n",
       "      <td>...</td>\n",
       "    </tr>\n",
       "    <tr>\n",
       "      <th>495</th>\n",
       "      <td>2021-05-11</td>\n",
       "      <td>24.952315</td>\n",
       "    </tr>\n",
       "    <tr>\n",
       "      <th>496</th>\n",
       "      <td>2021-05-12</td>\n",
       "      <td>23.776349</td>\n",
       "    </tr>\n",
       "    <tr>\n",
       "      <th>497</th>\n",
       "      <td>2021-05-13</td>\n",
       "      <td>23.572287</td>\n",
       "    </tr>\n",
       "    <tr>\n",
       "      <th>498</th>\n",
       "      <td>2021-05-14</td>\n",
       "      <td>23.216720</td>\n",
       "    </tr>\n",
       "    <tr>\n",
       "      <th>499</th>\n",
       "      <td>2021-05-15</td>\n",
       "      <td>23.712744</td>\n",
       "    </tr>\n",
       "  </tbody>\n",
       "</table>\n",
       "<p>500 rows × 2 columns</p>\n",
       "</div>"
      ],
      "text/plain": [
       "     Unnamed: 0          0\n",
       "0    2020-01-02  -1.358221\n",
       "1    2020-01-03  -2.602195\n",
       "2    2020-01-04  -2.259793\n",
       "3    2020-01-05  -2.368076\n",
       "4    2020-01-06  -0.390634\n",
       "..          ...        ...\n",
       "495  2021-05-11  24.952315\n",
       "496  2021-05-12  23.776349\n",
       "497  2021-05-13  23.572287\n",
       "498  2021-05-14  23.216720\n",
       "499  2021-05-15  23.712744\n",
       "\n",
       "[500 rows x 2 columns]"
      ]
     },
     "execution_count": 80,
     "metadata": {},
     "output_type": "execute_result"
    }
   ],
   "source": [
    "pd.read_csv('ts3.csv')"
   ]
  }
 ],
 "metadata": {
  "interpreter": {
   "hash": "8a6378035587bb97055001603ea9d85a2aa377cc6252a50ffca4355a71bc8b90"
  },
  "kernelspec": {
   "display_name": "Python 3.8.2 64-bit",
   "language": "python",
   "name": "python3"
  },
  "language_info": {
   "codemirror_mode": {
    "name": "ipython",
    "version": 3
   },
   "file_extension": ".py",
   "mimetype": "text/x-python",
   "name": "python",
   "nbconvert_exporter": "python",
   "pygments_lexer": "ipython3",
   "version": "3.8.2"
  },
  "orig_nbformat": 2
 },
 "nbformat": 4,
 "nbformat_minor": 2
}
