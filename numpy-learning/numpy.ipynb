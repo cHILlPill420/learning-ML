{
 "cells": [
  {
   "cell_type": "code",
   "execution_count": 1,
   "metadata": {},
   "outputs": [],
   "source": [
    "import numpy as np"
   ]
  },
  {
   "cell_type": "code",
   "execution_count": 32,
   "metadata": {
    "tags": []
   },
   "outputs": [
    {
     "output_type": "stream",
     "name": "stdout",
     "text": "[[1 2 3]\n [4 5 6]]\n"
    },
    {
     "output_type": "execute_result",
     "data": {
      "text/plain": "array([1, 2, 3])"
     },
     "metadata": {},
     "execution_count": 32
    }
   ],
   "source": [
    "a = np.array([[1,2,3],[4,5,6]], dtype='int16')\n",
    "b = np.array([1,2,3])\n",
    "print(a)\n",
    "b"
   ]
  },
  {
   "cell_type": "code",
   "execution_count": 11,
   "metadata": {
    "tags": []
   },
   "outputs": [
    {
     "output_type": "stream",
     "name": "stdout",
     "text": "(2, 3)\n"
    },
    {
     "output_type": "execute_result",
     "data": {
      "text/plain": "(3,)"
     },
     "metadata": {},
     "execution_count": 11
    }
   ],
   "source": [
    "#shape\n",
    "print(a.shape)\n",
    "b.shape"
   ]
  },
  {
   "cell_type": "code",
   "execution_count": 10,
   "metadata": {
    "tags": []
   },
   "outputs": [
    {
     "output_type": "stream",
     "name": "stdout",
     "text": "1\n"
    },
    {
     "output_type": "execute_result",
     "data": {
      "text/plain": "2"
     },
     "metadata": {},
     "execution_count": 10
    }
   ],
   "source": [
    "#dimension\n",
    "print(b.ndim)\n",
    "a.ndim\n"
   ]
  },
  {
   "cell_type": "code",
   "execution_count": 13,
   "metadata": {
    "tags": []
   },
   "outputs": [
    {
     "output_type": "stream",
     "name": "stdout",
     "text": "int32\n"
    },
    {
     "output_type": "execute_result",
     "data": {
      "text/plain": "dtype('int32')"
     },
     "metadata": {},
     "execution_count": 13
    }
   ],
   "source": [
    "#data type\n",
    "print(b.dtype)\n",
    "a.dtype"
   ]
  },
  {
   "cell_type": "code",
   "execution_count": 17,
   "metadata": {
    "tags": []
   },
   "outputs": [
    {
     "output_type": "stream",
     "name": "stdout",
     "text": "4\n"
    },
    {
     "output_type": "execute_result",
     "data": {
      "text/plain": "2"
     },
     "metadata": {},
     "execution_count": 17
    }
   ],
   "source": [
    "#item size\n",
    "print(b.itemsize)\n",
    "a.itemsize"
   ]
  },
  {
   "cell_type": "code",
   "execution_count": 23,
   "metadata": {
    "tags": []
   },
   "outputs": [
    {
     "output_type": "stream",
     "name": "stdout",
     "text": "3\n6\n12\n12\n"
    }
   ],
   "source": [
    "#no. of elements\n",
    "print(b.size)\n",
    "print(a.size)\n",
    "#total space taken\n",
    "print(a.size*a.itemsize)\n",
    "print(a.nbytes)"
   ]
  },
  {
   "cell_type": "markdown",
   "metadata": {},
   "source": [
    "Accessing/ Changing specific rows,columns,elements,etc"
   ]
  },
  {
   "cell_type": "code",
   "execution_count": 36,
   "metadata": {},
   "outputs": [
    {
     "output_type": "execute_result",
     "data": {
      "text/plain": "array([[1, 2, 3, 4],\n       [5, 6, 7, 8]])"
     },
     "metadata": {},
     "execution_count": 36
    }
   ],
   "source": [
    "c = np.array([[1,2,3,4],[5,6,7,8]])\n",
    "c"
   ]
  },
  {
   "cell_type": "code",
   "execution_count": 38,
   "metadata": {
    "tags": []
   },
   "outputs": [
    {
     "output_type": "stream",
     "name": "stdout",
     "text": "7\n"
    },
    {
     "output_type": "execute_result",
     "data": {
      "text/plain": "7"
     },
     "metadata": {},
     "execution_count": 38
    }
   ],
   "source": [
    "#get specific element [r,c]\n",
    "#to get 7 from above array\n",
    "print(c[1,2])\n",
    "c[1,-2]"
   ]
  },
  {
   "cell_type": "code",
   "execution_count": 39,
   "metadata": {},
   "outputs": [
    {
     "output_type": "execute_result",
     "data": {
      "text/plain": "array([5, 6, 7, 8])"
     },
     "metadata": {},
     "execution_count": 39
    }
   ],
   "source": [
    "#get specific row\n",
    "c[1,:]"
   ]
  },
  {
   "cell_type": "code",
   "execution_count": 40,
   "metadata": {},
   "outputs": [
    {
     "output_type": "execute_result",
     "data": {
      "text/plain": "array([2, 6])"
     },
     "metadata": {},
     "execution_count": 40
    }
   ],
   "source": [
    "#get specific column\n",
    "c[:,1]"
   ]
  },
  {
   "cell_type": "code",
   "execution_count": 42,
   "metadata": {},
   "outputs": [
    {
     "output_type": "execute_result",
     "data": {
      "text/plain": "array([[2],\n       [6]])"
     },
     "metadata": {},
     "execution_count": 42
    }
   ],
   "source": [
    "c[0:2,1:2]"
   ]
  },
  {
   "cell_type": "code",
   "execution_count": 44,
   "metadata": {},
   "outputs": [
    {
     "output_type": "execute_result",
     "data": {
      "text/plain": "array([2, 4])"
     },
     "metadata": {},
     "execution_count": 44
    }
   ],
   "source": [
    "#[startindex:endindex:stepsize]\n",
    "c[0,1:4:2]"
   ]
  },
  {
   "cell_type": "code",
   "execution_count": 45,
   "metadata": {},
   "outputs": [],
   "source": [
    "c[0,0]=2"
   ]
  },
  {
   "cell_type": "code",
   "execution_count": 46,
   "metadata": {},
   "outputs": [
    {
     "output_type": "execute_result",
     "data": {
      "text/plain": "array([[2, 2, 3, 4],\n       [5, 6, 7, 8]])"
     },
     "metadata": {},
     "execution_count": 46
    }
   ],
   "source": [
    "c"
   ]
  },
  {
   "cell_type": "code",
   "execution_count": 48,
   "metadata": {},
   "outputs": [
    {
     "output_type": "execute_result",
     "data": {
      "text/plain": "array([[2, 2, 3, 4],\n       [5, 2, 7, 4]])"
     },
     "metadata": {},
     "execution_count": 48
    }
   ],
   "source": [
    "c[1,:]=[5,2,7,4]\n",
    "c"
   ]
  },
  {
   "cell_type": "code",
   "execution_count": 52,
   "metadata": {},
   "outputs": [
    {
     "output_type": "execute_result",
     "data": {
      "text/plain": "array([[ 2, 10,  3,  4],\n       [ 5, 10,  7,  4]])"
     },
     "metadata": {},
     "execution_count": 52
    }
   ],
   "source": [
    "c[:,1]=10\n",
    "c"
   ]
  },
  {
   "cell_type": "markdown",
   "metadata": {},
   "source": [
    "3D example"
   ]
  },
  {
   "cell_type": "code",
   "execution_count": 5,
   "metadata": {
    "tags": []
   },
   "outputs": [
    {
     "output_type": "stream",
     "name": "stdout",
     "text": "[[[1 2]\n  [3 4]]\n\n [[5 6]\n  [7 8]]]\n"
    }
   ],
   "source": [
    "d = np.array([[[1,2],[3,4]],[[5,6],[7,8]]])\n",
    "print(d)"
   ]
  },
  {
   "cell_type": "code",
   "execution_count": 23,
   "metadata": {},
   "outputs": [
    {
     "output_type": "execute_result",
     "data": {
      "text/plain": "array([[[1, 2],\n        [3, 4]],\n\n       [[5, 6],\n        [7, 8]]])"
     },
     "metadata": {},
     "execution_count": 23
    }
   ],
   "source": [
    "#get specific element\n",
    "d[:,:,:]"
   ]
  },
  {
   "cell_type": "code",
   "execution_count": 24,
   "metadata": {},
   "outputs": [
    {
     "output_type": "execute_result",
     "data": {
      "text/plain": "array([[[1, 2],\n        [3, 4]],\n\n       [[5, 6],\n        [7, 7]]])"
     },
     "metadata": {},
     "execution_count": 24
    }
   ],
   "source": [
    "#replace\n",
    "d[1,1,1]=7\n",
    "d"
   ]
  },
  {
   "cell_type": "code",
   "execution_count": 26,
   "metadata": {},
   "outputs": [
    {
     "output_type": "execute_result",
     "data": {
      "text/plain": "array([[[1, 1],\n        [3, 3]],\n\n       [[5, 5],\n        [7, 7]]])"
     },
     "metadata": {},
     "execution_count": 26
    }
   ],
   "source": [
    "d[:,:,1]=[[1,3],[5,7]]\n",
    "d"
   ]
  },
  {
   "cell_type": "code",
   "execution_count": 28,
   "metadata": {},
   "outputs": [
    {
     "output_type": "execute_result",
     "data": {
      "text/plain": "array([[[1, 1],\n        [2, 3]],\n\n       [[5, 5],\n        [6, 7]]])"
     },
     "metadata": {},
     "execution_count": 28
    }
   ],
   "source": [
    "d[:,1,:]=[[2,3],[6,7]]\n",
    "d"
   ]
  },
  {
   "cell_type": "code",
   "execution_count": 29,
   "metadata": {},
   "outputs": [
    {
     "output_type": "execute_result",
     "data": {
      "text/plain": "array([[[1, 1],\n        [2, 3]],\n\n       [[4, 5],\n        [6, 7]]])"
     },
     "metadata": {},
     "execution_count": 29
    }
   ],
   "source": [
    "d[1,:,:]=[[4,5],[6,7]]\n",
    "d"
   ]
  },
  {
   "cell_type": "code",
   "execution_count": 32,
   "metadata": {},
   "outputs": [
    {
     "output_type": "execute_result",
     "data": {
      "text/plain": "array([[[0, 1],\n        [2, 3]],\n\n       [[4, 5],\n        [6, 7]]])"
     },
     "metadata": {},
     "execution_count": 32
    }
   ],
   "source": [
    "d[0,0,0]=0\n",
    "d"
   ]
  },
  {
   "cell_type": "markdown",
   "metadata": {},
   "source": [
    "Initializing different types of array"
   ]
  },
  {
   "cell_type": "markdown",
   "metadata": {},
   "source": [
    "#zreos"
   ]
  },
  {
   "cell_type": "code",
   "execution_count": 34,
   "metadata": {},
   "outputs": [
    {
     "output_type": "execute_result",
     "data": {
      "text/plain": "array([0., 0., 0., 0., 0.])"
     },
     "metadata": {},
     "execution_count": 34
    }
   ],
   "source": [
    "e = np.zeros(5)\n",
    "e"
   ]
  },
  {
   "cell_type": "code",
   "execution_count": 37,
   "metadata": {},
   "outputs": [
    {
     "output_type": "execute_result",
     "data": {
      "text/plain": "array([[0., 0.],\n       [0., 0.],\n       [0., 0.]])"
     },
     "metadata": {},
     "execution_count": 37
    }
   ],
   "source": [
    "f = np.zeros((3,2))\n",
    "f"
   ]
  },
  {
   "cell_type": "code",
   "execution_count": 39,
   "metadata": {},
   "outputs": [
    {
     "output_type": "execute_result",
     "data": {
      "text/plain": "array([[[0., 0.],\n        [0., 0.]],\n\n       [[0., 0.],\n        [0., 0.]]])"
     },
     "metadata": {},
     "execution_count": 39
    }
   ],
   "source": [
    "g = np.zeros((2,2,2))\n",
    "g"
   ]
  },
  {
   "cell_type": "code",
   "execution_count": 41,
   "metadata": {},
   "outputs": [
    {
     "output_type": "execute_result",
     "data": {
      "text/plain": "array([[[[0., 0., 0.],\n         [0., 0., 0.],\n         [0., 0., 0.]],\n\n        [[0., 0., 0.],\n         [0., 0., 0.],\n         [0., 0., 0.]],\n\n        [[0., 0., 0.],\n         [0., 0., 0.],\n         [0., 0., 0.]]],\n\n\n       [[[0., 0., 0.],\n         [0., 0., 0.],\n         [0., 0., 0.]],\n\n        [[0., 0., 0.],\n         [0., 0., 0.],\n         [0., 0., 0.]],\n\n        [[0., 0., 0.],\n         [0., 0., 0.],\n         [0., 0., 0.]]],\n\n\n       [[[0., 0., 0.],\n         [0., 0., 0.],\n         [0., 0., 0.]],\n\n        [[0., 0., 0.],\n         [0., 0., 0.],\n         [0., 0., 0.]],\n\n        [[0., 0., 0.],\n         [0., 0., 0.],\n         [0., 0., 0.]]]])"
     },
     "metadata": {},
     "execution_count": 41
    }
   ],
   "source": [
    "h = np.zeros((3,3,3,3))\n",
    "h"
   ]
  },
  {
   "cell_type": "markdown",
   "metadata": {},
   "source": [
    "#ones"
   ]
  },
  {
   "cell_type": "code",
   "execution_count": 43,
   "metadata": {},
   "outputs": [
    {
     "output_type": "execute_result",
     "data": {
      "text/plain": "array([[1., 1.],\n       [1., 1.],\n       [1., 1.]])"
     },
     "metadata": {},
     "execution_count": 43
    }
   ],
   "source": [
    "i = np.ones((3,2))\n",
    "i"
   ]
  },
  {
   "cell_type": "markdown",
   "metadata": {},
   "source": [
    "#any other numbers"
   ]
  },
  {
   "cell_type": "code",
   "execution_count": 48,
   "metadata": {},
   "outputs": [
    {
     "output_type": "execute_result",
     "data": {
      "text/plain": "array([[2, 2, 2],\n       [2, 2, 2],\n       [2, 2, 2]])"
     },
     "metadata": {},
     "execution_count": 48
    }
   ],
   "source": [
    "j = np.full((3,3),2)\n",
    "j"
   ]
  },
  {
   "cell_type": "code",
   "execution_count": 49,
   "metadata": {},
   "outputs": [
    {
     "output_type": "execute_result",
     "data": {
      "text/plain": "array([[3, 3, 3],\n       [3, 3, 3],\n       [3, 3, 3]])"
     },
     "metadata": {},
     "execution_count": 49
    }
   ],
   "source": [
    "np.full(j.shape,3)"
   ]
  },
  {
   "cell_type": "code",
   "execution_count": 51,
   "metadata": {},
   "outputs": [
    {
     "output_type": "execute_result",
     "data": {
      "text/plain": "array([[4, 4, 4],\n       [4, 4, 4],\n       [4, 4, 4]])"
     },
     "metadata": {},
     "execution_count": 51
    }
   ],
   "source": [
    "np.full_like(j,4)"
   ]
  },
  {
   "cell_type": "code",
   "execution_count": 52,
   "metadata": {},
   "outputs": [
    {
     "output_type": "execute_result",
     "data": {
      "text/plain": "array([[2, 2, 2],\n       [2, 2, 2],\n       [2, 2, 2]])"
     },
     "metadata": {},
     "execution_count": 52
    }
   ],
   "source": [
    "j"
   ]
  },
  {
   "cell_type": "markdown",
   "metadata": {},
   "source": [
    "Random Decimal no."
   ]
  },
  {
   "cell_type": "code",
   "execution_count": 56,
   "metadata": {},
   "outputs": [
    {
     "output_type": "execute_result",
     "data": {
      "text/plain": "array([[0.75305263, 0.96358564, 0.4374238 ],\n       [0.11877387, 0.947639  , 0.02688778],\n       [0.78641745, 0.2783058 , 0.96650044]])"
     },
     "metadata": {},
     "execution_count": 56
    }
   ],
   "source": [
    "np.random.random_sample(j.shape)"
   ]
  },
  {
   "cell_type": "code",
   "execution_count": 58,
   "metadata": {},
   "outputs": [
    {
     "output_type": "execute_result",
     "data": {
      "text/plain": "array([[0.16033977, 0.45671386],\n       [0.03682043, 0.68133445]])"
     },
     "metadata": {},
     "execution_count": 58
    }
   ],
   "source": [
    "np.random.rand(2,2)"
   ]
  },
  {
   "cell_type": "code",
   "execution_count": 59,
   "metadata": {},
   "outputs": [
    {
     "output_type": "execute_result",
     "data": {
      "text/plain": "array([[-0.32684133,  0.97869333],\n       [-1.39397634,  0.21507207],\n       [-0.21823578,  0.88910199]])"
     },
     "metadata": {},
     "execution_count": 59
    }
   ],
   "source": [
    "np.random.randn(3,2)"
   ]
  },
  {
   "cell_type": "code",
   "execution_count": 66,
   "metadata": {},
   "outputs": [
    {
     "output_type": "execute_result",
     "data": {
      "text/plain": "array([[4, 4, 3],\n       [5, 6, 8]])"
     },
     "metadata": {},
     "execution_count": 66
    }
   ],
   "source": [
    "np.random.randint(0,10,size=(2,3))"
   ]
  },
  {
   "cell_type": "markdown",
   "metadata": {},
   "source": [
    "identity"
   ]
  },
  {
   "cell_type": "code",
   "execution_count": 67,
   "metadata": {},
   "outputs": [
    {
     "output_type": "execute_result",
     "data": {
      "text/plain": "array([[1., 0., 0.],\n       [0., 1., 0.],\n       [0., 0., 1.]])"
     },
     "metadata": {},
     "execution_count": 67
    }
   ],
   "source": [
    "np.identity(3)"
   ]
  },
  {
   "cell_type": "code",
   "execution_count": 68,
   "metadata": {},
   "outputs": [
    {
     "output_type": "execute_result",
     "data": {
      "text/plain": "array([[1., 0.],\n       [0., 1.]])"
     },
     "metadata": {},
     "execution_count": 68
    }
   ],
   "source": [
    "np.eye(2)"
   ]
  },
  {
   "cell_type": "code",
   "execution_count": 76,
   "metadata": {},
   "outputs": [
    {
     "output_type": "execute_result",
     "data": {
      "text/plain": "array([[1, 2, 3],\n       [1, 2, 3],\n       [1, 2, 3]])"
     },
     "metadata": {},
     "execution_count": 76
    }
   ],
   "source": [
    "#to repeat the array\n",
    "k = np.array([[1,2,3]])\n",
    "l = np.repeat(k,3,axis=0)\n",
    "l"
   ]
  },
  {
   "cell_type": "code",
   "execution_count": 77,
   "metadata": {},
   "outputs": [],
   "source": [
    "#output required:\n",
    "#1 1 1 1 1\n",
    "#1 0 0 0 1\n",
    "#1 0 9 0 1\n",
    "#1 0 0 0 1\n",
    "#1 1 1 1 1"
   ]
  },
  {
   "cell_type": "code",
   "execution_count": 84,
   "metadata": {
    "tags": []
   },
   "outputs": [
    {
     "output_type": "stream",
     "name": "stdout",
     "text": "[[1. 1. 1. 1. 1.]\n [1. 1. 1. 1. 1.]\n [1. 1. 1. 1. 1.]\n [1. 1. 1. 1. 1.]\n [1. 1. 1. 1. 1.]]\n[[0. 0. 0.]\n [0. 0. 0.]\n [0. 0. 0.]]\n[[0. 0. 0.]\n [0. 9. 0.]\n [0. 0. 0.]]\n[[1. 1. 1. 1. 1.]\n [1. 0. 0. 0. 1.]\n [1. 0. 9. 0. 1.]\n [1. 0. 0. 0. 1.]\n [1. 1. 1. 1. 1.]]\n"
    }
   ],
   "source": [
    "m = np.ones((5,5))\n",
    "print(m)\n",
    "n = np.zeros((3,3))\n",
    "print(n)\n",
    "n[1,1] = 9\n",
    "print(n)\n",
    "m[1:4,1:4] = n\n",
    "print(m)"
   ]
  },
  {
   "cell_type": "markdown",
   "metadata": {},
   "source": [
    "COPYING ARRAY"
   ]
  },
  {
   "cell_type": "code",
   "execution_count": 92,
   "metadata": {
    "tags": []
   },
   "outputs": [
    {
     "output_type": "stream",
     "name": "stdout",
     "text": "[1 2 3]\n[1 2 3]\n[ 1 22  3]\n[1 2 3]\n[ 1 22  3]\n[ 1 22  3]\n"
    }
   ],
   "source": [
    "o = np.array([1,2,3])\n",
    "print(o)\n",
    "p = np.copy(o)\n",
    "#p = o.copy() [does same as above]\n",
    "print(p)\n",
    "p[1]=22\n",
    "print(p)\n",
    "print(o)\n",
    "#wrong way(necause not just copies but also changes element in original array if changed in copied array)\n",
    "q = o\n",
    "q[1]= 22\n",
    "print(q)\n",
    "print(o)"
   ]
  },
  {
   "cell_type": "markdown",
   "metadata": {},
   "source": [
    "MATHEMATICS"
   ]
  },
  {
   "cell_type": "code",
   "execution_count": 95,
   "metadata": {},
   "outputs": [
    {
     "output_type": "execute_result",
     "data": {
      "text/plain": "array([5, 7, 9])"
     },
     "metadata": {},
     "execution_count": 95
    }
   ],
   "source": [
    "r = np.array([1,2,3])\n",
    "s = np.array([4,5,6])\n",
    "r+s"
   ]
  },
  {
   "cell_type": "code",
   "execution_count": 96,
   "metadata": {},
   "outputs": [
    {
     "output_type": "execute_result",
     "data": {
      "text/plain": "array([3, 3, 3])"
     },
     "metadata": {},
     "execution_count": 96
    }
   ],
   "source": [
    "s-r"
   ]
  },
  {
   "cell_type": "code",
   "execution_count": 97,
   "metadata": {},
   "outputs": [
    {
     "output_type": "execute_result",
     "data": {
      "text/plain": "array([ 4, 10, 18])"
     },
     "metadata": {},
     "execution_count": 97
    }
   ],
   "source": [
    "r*s"
   ]
  },
  {
   "cell_type": "code",
   "execution_count": 98,
   "metadata": {},
   "outputs": [
    {
     "output_type": "execute_result",
     "data": {
      "text/plain": "array([4. , 2.5, 2. ])"
     },
     "metadata": {},
     "execution_count": 98
    }
   ],
   "source": [
    "s/r"
   ]
  },
  {
   "cell_type": "code",
   "execution_count": 100,
   "metadata": {},
   "outputs": [
    {
     "output_type": "execute_result",
     "data": {
      "text/plain": "array([4, 2, 2], dtype=int32)"
     },
     "metadata": {},
     "execution_count": 100
    }
   ],
   "source": [
    "s//r"
   ]
  },
  {
   "cell_type": "code",
   "execution_count": 103,
   "metadata": {},
   "outputs": [
    {
     "output_type": "execute_result",
     "data": {
      "text/plain": "array([  4,  25, 216], dtype=int32)"
     },
     "metadata": {},
     "execution_count": 103
    }
   ],
   "source": [
    "s**r"
   ]
  },
  {
   "cell_type": "code",
   "execution_count": 104,
   "metadata": {},
   "outputs": [
    {
     "output_type": "execute_result",
     "data": {
      "text/plain": "array([1, 4, 9], dtype=int32)"
     },
     "metadata": {},
     "execution_count": 104
    }
   ],
   "source": [
    "r**2"
   ]
  },
  {
   "cell_type": "code",
   "execution_count": 105,
   "metadata": {},
   "outputs": [
    {
     "output_type": "execute_result",
     "data": {
      "text/plain": "array([0.84147098, 0.90929743, 0.14112001])"
     },
     "metadata": {},
     "execution_count": 105
    }
   ],
   "source": [
    "np.sin(r)"
   ]
  },
  {
   "cell_type": "code",
   "execution_count": 106,
   "metadata": {},
   "outputs": [
    {
     "output_type": "execute_result",
     "data": {
      "text/plain": "array([ 0.54030231, -0.41614684, -0.9899925 ])"
     },
     "metadata": {},
     "execution_count": 106
    }
   ],
   "source": [
    "np.cos(r)"
   ]
  },
  {
   "cell_type": "code",
   "execution_count": 107,
   "metadata": {},
   "outputs": [
    {
     "output_type": "execute_result",
     "data": {
      "text/plain": "array([ 1.55740772, -2.18503986, -0.14254654])"
     },
     "metadata": {},
     "execution_count": 107
    }
   ],
   "source": [
    "np.tan(r)"
   ]
  },
  {
   "cell_type": "code",
   "execution_count": 108,
   "metadata": {},
   "outputs": [
    {
     "output_type": "execute_result",
     "data": {
      "text/plain": "array([0.76159416, 0.96402758, 0.99505475])"
     },
     "metadata": {},
     "execution_count": 108
    }
   ],
   "source": [
    "np.tanh(r)"
   ]
  },
  {
   "cell_type": "markdown",
   "metadata": {},
   "source": [
    "Linear Algebra"
   ]
  },
  {
   "cell_type": "code",
   "execution_count": 15,
   "metadata": {
    "tags": []
   },
   "outputs": [
    {
     "output_type": "stream",
     "name": "stdout",
     "text": "[[1. 1. 1.]\n [1. 1. 1.]] [[3 3 3 3]\n [3 3 3 3]\n [3 3 3 3]]\n[[9. 9. 9. 9.]\n [9. 9. 9. 9.]] (2, 4)\n"
    }
   ],
   "source": [
    "#matrix multiplication\n",
    "t = np.ones((2,3))\n",
    "u = np.full((3,4),3)\n",
    "print(t,u)\n",
    "v = np.matmul(t,u)\n",
    "print(v,v.shape)"
   ]
  },
  {
   "cell_type": "code",
   "execution_count": 23,
   "metadata": {
    "tags": []
   },
   "outputs": [
    {
     "output_type": "stream",
     "name": "stdout",
     "text": "[[3 0 0]\n [0 3 0]\n [0 0 3]]\n"
    },
    {
     "output_type": "execute_result",
     "data": {
      "text/plain": "27.0"
     },
     "metadata": {},
     "execution_count": 23
    }
   ],
   "source": [
    "#determinant\n",
    "w = np.diag([3,3,3])\n",
    "print(w)\n",
    "np.linalg.det(w)"
   ]
  },
  {
   "cell_type": "code",
   "execution_count": 28,
   "metadata": {
    "tags": []
   },
   "outputs": [
    {
     "output_type": "stream",
     "name": "stdout",
     "text": "[[1 2 3]\n [4 5 6]\n [7 8 9]]\n"
    },
    {
     "output_type": "execute_result",
     "data": {
      "text/plain": "0.0"
     },
     "metadata": {},
     "execution_count": 28
    }
   ],
   "source": [
    "x = np.array([[1,2,3],[4,5,6],[7,8,9]])\n",
    "print(x)\n",
    "np.linalg.det(x)"
   ]
  },
  {
   "cell_type": "code",
   "execution_count": 29,
   "metadata": {},
   "outputs": [],
   "source": [
    "#docs.scipy.org/doc/numpy/reference/routines.linalg.html"
   ]
  },
  {
   "cell_type": "markdown",
   "metadata": {},
   "source": [
    "STATISTICS"
   ]
  },
  {
   "cell_type": "code",
   "execution_count": 31,
   "metadata": {},
   "outputs": [],
   "source": [
    "y = np.array([[1,2,3],[4,5,6]])"
   ]
  },
  {
   "cell_type": "code",
   "execution_count": 32,
   "metadata": {},
   "outputs": [
    {
     "output_type": "execute_result",
     "data": {
      "text/plain": "1"
     },
     "metadata": {},
     "execution_count": 32
    }
   ],
   "source": [
    "np.min(y)"
   ]
  },
  {
   "cell_type": "code",
   "execution_count": 34,
   "metadata": {},
   "outputs": [
    {
     "output_type": "execute_result",
     "data": {
      "text/plain": "array([1, 4])"
     },
     "metadata": {},
     "execution_count": 34
    }
   ],
   "source": [
    "np.min(y,axis=1)"
   ]
  },
  {
   "cell_type": "code",
   "execution_count": 36,
   "metadata": {},
   "outputs": [
    {
     "output_type": "execute_result",
     "data": {
      "text/plain": "array([3, 6])"
     },
     "metadata": {},
     "execution_count": 36
    }
   ],
   "source": [
    "np.max(y,axis=1)"
   ]
  },
  {
   "cell_type": "code",
   "execution_count": 37,
   "metadata": {},
   "outputs": [
    {
     "output_type": "execute_result",
     "data": {
      "text/plain": "21"
     },
     "metadata": {},
     "execution_count": 37
    }
   ],
   "source": [
    "np.sum(y)"
   ]
  },
  {
   "cell_type": "code",
   "execution_count": 39,
   "metadata": {},
   "outputs": [
    {
     "output_type": "execute_result",
     "data": {
      "text/plain": "array([5, 7, 9])"
     },
     "metadata": {},
     "execution_count": 39
    }
   ],
   "source": [
    "y.sum(axis=0)\n",
    "#np.sum(y,axis=0)"
   ]
  },
  {
   "cell_type": "markdown",
   "metadata": {},
   "source": [
    "Reorganizing array"
   ]
  },
  {
   "cell_type": "code",
   "execution_count": 40,
   "metadata": {},
   "outputs": [],
   "source": [
    "#reshape\n",
    "z = np.array([[1,2,3,4,5],[6,7,8,9,0]])"
   ]
  },
  {
   "cell_type": "code",
   "execution_count": 41,
   "metadata": {},
   "outputs": [
    {
     "output_type": "execute_result",
     "data": {
      "text/plain": "(2, 5)"
     },
     "metadata": {},
     "execution_count": 41
    }
   ],
   "source": [
    "z.shape"
   ]
  },
  {
   "cell_type": "code",
   "execution_count": 42,
   "metadata": {},
   "outputs": [
    {
     "output_type": "execute_result",
     "data": {
      "text/plain": "array([[1, 2],\n       [3, 4],\n       [5, 6],\n       [7, 8],\n       [9, 0]])"
     },
     "metadata": {},
     "execution_count": 42
    }
   ],
   "source": [
    "z.reshape(5,2)"
   ]
  },
  {
   "cell_type": "code",
   "execution_count": 43,
   "metadata": {},
   "outputs": [
    {
     "output_type": "execute_result",
     "data": {
      "text/plain": "array([[1, 2, 3, 4, 5, 6, 7, 8, 9, 0]])"
     },
     "metadata": {},
     "execution_count": 43
    }
   ],
   "source": [
    "np.reshape(z,(1,10))"
   ]
  },
  {
   "cell_type": "code",
   "execution_count": 52,
   "metadata": {},
   "outputs": [
    {
     "output_type": "execute_result",
     "data": {
      "text/plain": "array([[ 1,  2,  3,  4,  5],\n       [ 6,  7,  8,  9,  0],\n       [11, 12, 13, 14, 15],\n       [ 1,  2,  3,  4,  5],\n       [ 6,  7,  8,  9,  0]])"
     },
     "metadata": {},
     "execution_count": 52
    }
   ],
   "source": [
    "#vertical stacking\n",
    "a1 = np.array([11,12,13,14,15])\n",
    "np.vstack([z,a1,z])"
   ]
  },
  {
   "cell_type": "code",
   "execution_count": 56,
   "metadata": {},
   "outputs": [
    {
     "output_type": "execute_result",
     "data": {
      "text/plain": "array([[ 1,  2,  3,  4,  5, 12],\n       [ 6,  7,  8,  9,  0, 13]])"
     },
     "metadata": {},
     "execution_count": 56
    }
   ],
   "source": [
    "#horizontal stack\n",
    "a2 = np.array([[12],[13]])\n",
    "np.hstack([z,a2])"
   ]
  },
  {
   "cell_type": "markdown",
   "metadata": {},
   "source": [
    "MISCELLANEOUS"
   ]
  },
  {
   "cell_type": "code",
   "execution_count": 60,
   "metadata": {},
   "outputs": [
    {
     "output_type": "execute_result",
     "data": {
      "text/plain": "array([[ 1.,  2.,  3.,  4.,  5.,  6.,  7.,  8.,  9., 10.],\n       [11., 12., 13., 14., 15., 16., 17., 18., 19., 20.],\n       [21., 22., 23., 24., 25., 26., 27., 28., 29., 30.]])"
     },
     "metadata": {},
     "execution_count": 60
    }
   ],
   "source": [
    "#Loading data from file\n",
    "a3 = np.genfromtxt('data.txt',delimiter=',')\n",
    "a3"
   ]
  },
  {
   "cell_type": "code",
   "execution_count": 61,
   "metadata": {},
   "outputs": [
    {
     "output_type": "execute_result",
     "data": {
      "text/plain": "array([[ 1,  2,  3,  4,  5,  6,  7,  8,  9, 10],\n       [11, 12, 13, 14, 15, 16, 17, 18, 19, 20],\n       [21, 22, 23, 24, 25, 26, 27, 28, 29, 30]])"
     },
     "metadata": {},
     "execution_count": 61
    }
   ],
   "source": [
    "a3.astype('int32')"
   ]
  },
  {
   "cell_type": "code",
   "execution_count": 65,
   "metadata": {},
   "outputs": [
    {
     "output_type": "execute_result",
     "data": {
      "text/plain": "dtype('float64')"
     },
     "metadata": {},
     "execution_count": 65
    }
   ],
   "source": [
    "a3.dtype"
   ]
  },
  {
   "cell_type": "markdown",
   "metadata": {},
   "source": [
    "Boolean masking and advanced indexing"
   ]
  },
  {
   "cell_type": "code",
   "execution_count": 67,
   "metadata": {},
   "outputs": [
    {
     "output_type": "execute_result",
     "data": {
      "text/plain": "array([[False, False, False, False, False, False, False, False, False,\n        False],\n       [False, False, False, False, False, False, False, False, False,\n         True],\n       [ True,  True,  True,  True,  True,  True,  True,  True,  True,\n         True]])"
     },
     "metadata": {},
     "execution_count": 67
    }
   ],
   "source": [
    "a3>=20"
   ]
  },
  {
   "cell_type": "code",
   "execution_count": 81,
   "metadata": {},
   "outputs": [
    {
     "output_type": "execute_result",
     "data": {
      "text/plain": "array([21., 22., 23., 24., 25., 26., 27., 28., 29., 30.])"
     },
     "metadata": {},
     "execution_count": 81
    }
   ],
   "source": [
    "a3[a3>20]"
   ]
  },
  {
   "cell_type": "code",
   "execution_count": 84,
   "metadata": {},
   "outputs": [
    {
     "output_type": "execute_result",
     "data": {
      "text/plain": "array([[False, False, False, False, False, False, False, False, False,\n        False],\n       [False, False, False, False, False, False, False, False, False,\n        False],\n       [ True,  True,  True,  True, False, False, False, False, False,\n        False]])"
     },
     "metadata": {},
     "execution_count": 84
    }
   ],
   "source": [
    "((a3>20) & (a3<25))"
   ]
  },
  {
   "cell_type": "code",
   "execution_count": 86,
   "metadata": {},
   "outputs": [
    {
     "output_type": "execute_result",
     "data": {
      "text/plain": "array([[ True,  True,  True,  True,  True,  True,  True,  True,  True,\n         True],\n       [ True,  True,  True,  True,  True,  True,  True,  True,  True,\n         True],\n       [False, False, False, False,  True,  True,  True,  True,  True,\n         True]])"
     },
     "metadata": {},
     "execution_count": 86
    }
   ],
   "source": [
    "#not\n",
    "~((a3>20) & (a3<25))"
   ]
  },
  {
   "cell_type": "code",
   "execution_count": 87,
   "metadata": {},
   "outputs": [
    {
     "output_type": "execute_result",
     "data": {
      "text/plain": "array([21., 22., 23., 24.])"
     },
     "metadata": {},
     "execution_count": 87
    }
   ],
   "source": [
    "a3[((a3>20) & (a3<25))]"
   ]
  },
  {
   "cell_type": "code",
   "execution_count": 88,
   "metadata": {},
   "outputs": [
    {
     "output_type": "execute_result",
     "data": {
      "text/plain": "array([ 1.,  2.,  3.,  4.,  5.,  6.,  7.,  8.,  9., 10., 11., 12., 13.,\n       14., 15., 16., 17., 18., 19., 20., 25., 26., 27., 28., 29., 30.])"
     },
     "metadata": {},
     "execution_count": 88
    }
   ],
   "source": [
    "a3[~((a3>20) & (a3<25))]"
   ]
  },
  {
   "cell_type": "code",
   "execution_count": 71,
   "metadata": {},
   "outputs": [
    {
     "output_type": "execute_result",
     "data": {
      "text/plain": "array([1, 2])"
     },
     "metadata": {},
     "execution_count": 71
    }
   ],
   "source": [
    "#numpy is indexable by list\n",
    "a4 = np.array([1,2,3,4,5])\n",
    "a4[[0,1]] "
   ]
  }
 ],
 "metadata": {
  "language_info": {
   "codemirror_mode": {
    "name": "ipython",
    "version": 3
   },
   "file_extension": ".py",
   "mimetype": "text/x-python",
   "name": "python",
   "nbconvert_exporter": "python",
   "pygments_lexer": "ipython3",
   "version": "3.8.2-final"
  },
  "orig_nbformat": 2,
  "kernelspec": {
   "name": "python3",
   "display_name": "Python 3"
  }
 },
 "nbformat": 4,
 "nbformat_minor": 2
}